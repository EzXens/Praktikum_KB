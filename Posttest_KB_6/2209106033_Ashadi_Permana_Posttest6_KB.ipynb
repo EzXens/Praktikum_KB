{
 "cells": [
  {
   "cell_type": "markdown",
   "metadata": {},
   "source": [
    "## Nama : Ashadi Permana\n",
    "## NIM : 2209106033\n",
    "## Kelas Praktikum : A22"
   ]
  },
  {
   "cell_type": "markdown",
   "metadata": {},
   "source": [
    "### Untuk Mengimport Library Pandas dan di deklarasikan ke pd"
   ]
  },
  {
   "cell_type": "code",
   "execution_count": 208,
   "metadata": {},
   "outputs": [],
   "source": [
    "import pandas as pd\n",
    "import matplotlib.pyplot as plt\n",
    "import seaborn as sns"
   ]
  },
  {
   "cell_type": "markdown",
   "metadata": {},
   "source": [
    "### Untuk Meng Read File CSV"
   ]
  },
  {
   "cell_type": "code",
   "execution_count": 209,
   "metadata": {},
   "outputs": [],
   "source": [
    "dfAnime = pd.read_csv(\"Animes.csv\")\n"
   ]
  },
  {
   "cell_type": "code",
   "execution_count": 210,
   "metadata": {},
   "outputs": [
    {
     "data": {
      "text/html": [
       "<div>\n",
       "<style scoped>\n",
       "    .dataframe tbody tr th:only-of-type {\n",
       "        vertical-align: middle;\n",
       "    }\n",
       "\n",
       "    .dataframe tbody tr th {\n",
       "        vertical-align: top;\n",
       "    }\n",
       "\n",
       "    .dataframe thead th {\n",
       "        text-align: right;\n",
       "    }\n",
       "</style>\n",
       "<table border=\"1\" class=\"dataframe\">\n",
       "  <thead>\n",
       "    <tr style=\"text-align: right;\">\n",
       "      <th></th>\n",
       "      <th>position</th>\n",
       "      <th>title</th>\n",
       "      <th>episodes</th>\n",
       "      <th>release_date</th>\n",
       "      <th>members</th>\n",
       "      <th>score</th>\n",
       "      <th>details</th>\n",
       "      <th>broadcast</th>\n",
       "      <th>studios</th>\n",
       "      <th>source</th>\n",
       "      <th>genres</th>\n",
       "      <th>themes</th>\n",
       "      <th>demographic</th>\n",
       "      <th>popularity</th>\n",
       "    </tr>\n",
       "  </thead>\n",
       "  <tbody>\n",
       "    <tr>\n",
       "      <th>0</th>\n",
       "      <td>1.0</td>\n",
       "      <td>Fullmetal Alchemist: Brotherhood</td>\n",
       "      <td>TV (64 eps)</td>\n",
       "      <td>Apr 2009 - Jul 2010</td>\n",
       "      <td>3018336</td>\n",
       "      <td>9.12</td>\n",
       "      <td>https://myanimelist.net/anime/5114/Fullmetal_A...</td>\n",
       "      <td>Sundays at 17:00 (JST)</td>\n",
       "      <td>Bones</td>\n",
       "      <td>Manga</td>\n",
       "      <td>Action, Adventure, Drama, Fantasy</td>\n",
       "      <td>Military</td>\n",
       "      <td>Shounen</td>\n",
       "      <td>3</td>\n",
       "    </tr>\n",
       "    <tr>\n",
       "      <th>1</th>\n",
       "      <td>2.0</td>\n",
       "      <td>Kaguya-sama wa Kokurasetai: Ultra Romantic</td>\n",
       "      <td>TV (13 eps)</td>\n",
       "      <td>Apr 2022 - Jun 2022</td>\n",
       "      <td>687194</td>\n",
       "      <td>9.10</td>\n",
       "      <td>https://myanimelist.net/anime/43608/Kaguya-sam...</td>\n",
       "      <td>Saturdays at 00:00 (JST)</td>\n",
       "      <td>A-1 Pictures</td>\n",
       "      <td>Manga</td>\n",
       "      <td>Comedy, Romance</td>\n",
       "      <td>Psychological, School</td>\n",
       "      <td>Seinen</td>\n",
       "      <td>242</td>\n",
       "    </tr>\n",
       "    <tr>\n",
       "      <th>2</th>\n",
       "      <td>3.0</td>\n",
       "      <td>Bleach: Sennen Kessen-hen</td>\n",
       "      <td>TV (? eps)</td>\n",
       "      <td>Oct 2022 -</td>\n",
       "      <td>278650</td>\n",
       "      <td>9.08</td>\n",
       "      <td>https://myanimelist.net/anime/41467/Bleach__Se...</td>\n",
       "      <td>Tuesdays at 00:00 (JST)</td>\n",
       "      <td>Pierrot</td>\n",
       "      <td>Manga</td>\n",
       "      <td>Action, Adventure, Fantasy</td>\n",
       "      <td>NaN</td>\n",
       "      <td>Shounen</td>\n",
       "      <td>748</td>\n",
       "    </tr>\n",
       "    <tr>\n",
       "      <th>3</th>\n",
       "      <td>4.0</td>\n",
       "      <td>Gintama°</td>\n",
       "      <td>TV (51 eps)</td>\n",
       "      <td>Apr 2015 - Mar 2016</td>\n",
       "      <td>563143</td>\n",
       "      <td>9.08</td>\n",
       "      <td>https://myanimelist.net/anime/28977/Gintama°</td>\n",
       "      <td>Wednesdays at 18:00 (JST)</td>\n",
       "      <td>Bandai Namco Pictures</td>\n",
       "      <td>Manga</td>\n",
       "      <td>Action, Comedy, Sci-Fi</td>\n",
       "      <td>Gag Humor, Historical, Parody, Samurai</td>\n",
       "      <td>Shounen</td>\n",
       "      <td>337</td>\n",
       "    </tr>\n",
       "    <tr>\n",
       "      <th>4</th>\n",
       "      <td>5.0</td>\n",
       "      <td>Steins;Gate</td>\n",
       "      <td>TV (24 eps)</td>\n",
       "      <td>Apr 2011 - Sep 2011</td>\n",
       "      <td>2324018</td>\n",
       "      <td>9.08</td>\n",
       "      <td>https://myanimelist.net/anime/9253/Steins_Gate</td>\n",
       "      <td>Wednesdays at 02:05 (JST)</td>\n",
       "      <td>White Fox</td>\n",
       "      <td>Visual</td>\n",
       "      <td>Drama, Sci-Fi, Suspense</td>\n",
       "      <td>Psychological, Time Travel</td>\n",
       "      <td>NaN</td>\n",
       "      <td>13</td>\n",
       "    </tr>\n",
       "  </tbody>\n",
       "</table>\n",
       "</div>"
      ],
      "text/plain": [
       "   position                                       title     episodes  \\\n",
       "0       1.0            Fullmetal Alchemist: Brotherhood  TV (64 eps)   \n",
       "1       2.0  Kaguya-sama wa Kokurasetai: Ultra Romantic  TV (13 eps)   \n",
       "2       3.0                   Bleach: Sennen Kessen-hen   TV (? eps)   \n",
       "3       4.0                                    Gintama°  TV (51 eps)   \n",
       "4       5.0                                 Steins;Gate  TV (24 eps)   \n",
       "\n",
       "          release_date  members  score  \\\n",
       "0  Apr 2009 - Jul 2010  3018336   9.12   \n",
       "1  Apr 2022 - Jun 2022   687194   9.10   \n",
       "2           Oct 2022 -   278650   9.08   \n",
       "3  Apr 2015 - Mar 2016   563143   9.08   \n",
       "4  Apr 2011 - Sep 2011  2324018   9.08   \n",
       "\n",
       "                                             details  \\\n",
       "0  https://myanimelist.net/anime/5114/Fullmetal_A...   \n",
       "1  https://myanimelist.net/anime/43608/Kaguya-sam...   \n",
       "2  https://myanimelist.net/anime/41467/Bleach__Se...   \n",
       "3       https://myanimelist.net/anime/28977/Gintama°   \n",
       "4     https://myanimelist.net/anime/9253/Steins_Gate   \n",
       "\n",
       "                   broadcast                studios  source  \\\n",
       "0     Sundays at 17:00 (JST)                  Bones   Manga   \n",
       "1   Saturdays at 00:00 (JST)           A-1 Pictures   Manga   \n",
       "2    Tuesdays at 00:00 (JST)                Pierrot   Manga   \n",
       "3  Wednesdays at 18:00 (JST)  Bandai Namco Pictures   Manga   \n",
       "4  Wednesdays at 02:05 (JST)              White Fox  Visual   \n",
       "\n",
       "                              genres                                  themes  \\\n",
       "0  Action, Adventure, Drama, Fantasy                                Military   \n",
       "1                    Comedy, Romance                   Psychological, School   \n",
       "2         Action, Adventure, Fantasy                                     NaN   \n",
       "3             Action, Comedy, Sci-Fi  Gag Humor, Historical, Parody, Samurai   \n",
       "4            Drama, Sci-Fi, Suspense              Psychological, Time Travel   \n",
       "\n",
       "  demographic  popularity  \n",
       "0     Shounen           3  \n",
       "1      Seinen         242  \n",
       "2     Shounen         748  \n",
       "3     Shounen         337  \n",
       "4         NaN          13  "
      ]
     },
     "execution_count": 210,
     "metadata": {},
     "output_type": "execute_result"
    }
   ],
   "source": [
    "dfAnime.head()"
   ]
  },
  {
   "cell_type": "markdown",
   "metadata": {},
   "source": [
    "### MELIHAT INFO DARI DATASET"
   ]
  },
  {
   "cell_type": "code",
   "execution_count": 211,
   "metadata": {},
   "outputs": [
    {
     "name": "stdout",
     "output_type": "stream",
     "text": [
      "<class 'pandas.core.frame.DataFrame'>\n",
      "RangeIndex: 23070 entries, 0 to 23069\n",
      "Data columns (total 14 columns):\n",
      " #   Column        Non-Null Count  Dtype  \n",
      "---  ------        --------------  -----  \n",
      " 0   position      21150 non-null  float64\n",
      " 1   title         23070 non-null  object \n",
      " 2   episodes      23070 non-null  object \n",
      " 3   release_date  23070 non-null  object \n",
      " 4   members       23070 non-null  int64  \n",
      " 5   score         23070 non-null  float64\n",
      " 6   details       23070 non-null  object \n",
      " 7   broadcast     7238 non-null   object \n",
      " 8   studios       23070 non-null  object \n",
      " 9   source        23070 non-null  object \n",
      " 10  genres        10609 non-null  object \n",
      " 11  themes        12543 non-null  object \n",
      " 12  demographic   9054 non-null   object \n",
      " 13  popularity    23070 non-null  int64  \n",
      "dtypes: float64(2), int64(2), object(10)\n",
      "memory usage: 2.5+ MB\n"
     ]
    }
   ],
   "source": [
    "dfAnime.info()"
   ]
  },
  {
   "cell_type": "markdown",
   "metadata": {},
   "source": [
    "### Fungsi train_test_split dari pustaka scikit-learn (sklearn) digunakan untuk membagi dataset menjadi dua subset yang berbeda"
   ]
  },
  {
   "cell_type": "markdown",
   "metadata": {},
   "source": [
    "### MELAKUKAN DATA PRE PROCESSING TERLEBIH DAHULU"
   ]
  },
  {
   "cell_type": "code",
   "execution_count": 212,
   "metadata": {},
   "outputs": [],
   "source": [
    "from sklearn.model_selection import train_test_split\n",
    "from sklearn.preprocessing import LabelEncoder, StandardScaler\n",
    "from sklearn.svm import SVC\n",
    "from sklearn.metrics import accuracy_score, classification_report"
   ]
  },
  {
   "cell_type": "markdown",
   "metadata": {},
   "source": [
    "### MENANGANI NILAI NULL"
   ]
  },
  {
   "cell_type": "code",
   "execution_count": 213,
   "metadata": {},
   "outputs": [
    {
     "data": {
      "text/plain": [
       "position        0\n",
       "title           0\n",
       "episodes        0\n",
       "release_date    0\n",
       "members         0\n",
       "score           0\n",
       "details         0\n",
       "broadcast       0\n",
       "studios         0\n",
       "source          0\n",
       "genres          0\n",
       "themes          0\n",
       "demographic     0\n",
       "popularity      0\n",
       "dtype: int64"
      ]
     },
     "execution_count": 213,
     "metadata": {},
     "output_type": "execute_result"
    }
   ],
   "source": [
    "dfAnime[\"position\"].fillna(dfAnime[\"position\"].mean(), inplace= True)\n",
    "dfAnime[\"members\"].fillna(dfAnime[\"members\"].median(), inplace= True)\n",
    "dfAnime[\"demographic\"].fillna(dfAnime[\"demographic\"].mode()[0], inplace= True)\n",
    "dfAnime[\"broadcast\"].fillna(dfAnime[\"broadcast\"].mode()[0], inplace= True)\n",
    "dfAnime[\"genres\"].fillna(dfAnime[\"genres\"].mode()[0], inplace= True)\n",
    "dfAnime[\"themes\"].fillna(dfAnime[\"themes\"].mode()[0], inplace= True)\n",
    "dfAnime.isna().sum()"
   ]
  },
  {
   "cell_type": "markdown",
   "metadata": {},
   "source": [
    "### mengecek nilai duplikat"
   ]
  },
  {
   "cell_type": "code",
   "execution_count": 214,
   "metadata": {},
   "outputs": [
    {
     "name": "stdout",
     "output_type": "stream",
     "text": [
      "total nilai duplikat : \n"
     ]
    },
    {
     "data": {
      "text/plain": [
       "0"
      ]
     },
     "execution_count": 214,
     "metadata": {},
     "output_type": "execute_result"
    }
   ],
   "source": [
    "print(\"total nilai duplikat : \")\n",
    "dfAnime.duplicated().sum()"
   ]
  },
  {
   "cell_type": "markdown",
   "metadata": {},
   "source": [
    "### MENGHILANGKAN OUTLIER"
   ]
  },
  {
   "cell_type": "code",
   "execution_count": 215,
   "metadata": {},
   "outputs": [],
   "source": [
    "from scipy import stats\n",
    "import numpy as np\n",
    "\n",
    "df = dfAnime[(np.abs(stats.zscore(dfAnime.select_dtypes(['int64' , 'float64']))) <3).all(axis=1)]"
   ]
  },
  {
   "cell_type": "code",
   "execution_count": 216,
   "metadata": {},
   "outputs": [
    {
     "name": "stdout",
     "output_type": "stream",
     "text": [
      "<class 'pandas.core.frame.DataFrame'>\n",
      "RangeIndex: 23070 entries, 0 to 23069\n",
      "Data columns (total 4 columns):\n",
      " #   Column      Non-Null Count  Dtype  \n",
      "---  ------      --------------  -----  \n",
      " 0   position    23070 non-null  float64\n",
      " 1   members     23070 non-null  int64  \n",
      " 2   score       23070 non-null  float64\n",
      " 3   popularity  23070 non-null  int64  \n",
      "dtypes: float64(2), int64(2)\n",
      "memory usage: 721.1 KB\n"
     ]
    }
   ],
   "source": [
    "dfAnime.select_dtypes(['int64' , 'float64']).info()"
   ]
  },
  {
   "cell_type": "code",
   "execution_count": 217,
   "metadata": {},
   "outputs": [
    {
     "name": "stdout",
     "output_type": "stream",
     "text": [
      "<class 'pandas.core.frame.DataFrame'>\n",
      "RangeIndex: 23070 entries, 0 to 23069\n",
      "Data columns (total 10 columns):\n",
      " #   Column        Non-Null Count  Dtype \n",
      "---  ------        --------------  ----- \n",
      " 0   title         23070 non-null  object\n",
      " 1   episodes      23070 non-null  object\n",
      " 2   release_date  23070 non-null  object\n",
      " 3   details       23070 non-null  object\n",
      " 4   broadcast     23070 non-null  object\n",
      " 5   studios       23070 non-null  object\n",
      " 6   source        23070 non-null  object\n",
      " 7   genres        23070 non-null  object\n",
      " 8   themes        23070 non-null  object\n",
      " 9   demographic   23070 non-null  object\n",
      "dtypes: object(10)\n",
      "memory usage: 1.8+ MB\n"
     ]
    }
   ],
   "source": [
    "dfAnime.select_dtypes('object').info()"
   ]
  },
  {
   "cell_type": "code",
   "execution_count": 218,
   "metadata": {},
   "outputs": [
    {
     "name": "stdout",
     "output_type": "stream",
     "text": [
      "<class 'pandas.core.frame.DataFrame'>\n",
      "RangeIndex: 23070 entries, 0 to 23069\n",
      "Data columns (total 10 columns):\n",
      " #   Column        Non-Null Count  Dtype \n",
      "---  ------        --------------  ----- \n",
      " 0   title         23070 non-null  object\n",
      " 1   episodes      23070 non-null  object\n",
      " 2   release_date  23070 non-null  object\n",
      " 3   details       23070 non-null  object\n",
      " 4   broadcast     23070 non-null  object\n",
      " 5   studios       23070 non-null  object\n",
      " 6   source        23070 non-null  object\n",
      " 7   genres        23070 non-null  object\n",
      " 8   themes        23070 non-null  object\n",
      " 9   demographic   23070 non-null  object\n",
      "dtypes: object(10)\n",
      "memory usage: 1.8+ MB\n"
     ]
    }
   ],
   "source": [
    "dfAnime.select_dtypes('object').info()"
   ]
  },
  {
   "cell_type": "code",
   "execution_count": 219,
   "metadata": {},
   "outputs": [
    {
     "data": {
      "text/html": [
       "<div>\n",
       "<style scoped>\n",
       "    .dataframe tbody tr th:only-of-type {\n",
       "        vertical-align: middle;\n",
       "    }\n",
       "\n",
       "    .dataframe tbody tr th {\n",
       "        vertical-align: top;\n",
       "    }\n",
       "\n",
       "    .dataframe thead th {\n",
       "        text-align: right;\n",
       "    }\n",
       "</style>\n",
       "<table border=\"1\" class=\"dataframe\">\n",
       "  <thead>\n",
       "    <tr style=\"text-align: right;\">\n",
       "      <th></th>\n",
       "      <th>position</th>\n",
       "      <th>title</th>\n",
       "      <th>episodes</th>\n",
       "      <th>release_date</th>\n",
       "      <th>members</th>\n",
       "      <th>score</th>\n",
       "      <th>details</th>\n",
       "      <th>broadcast</th>\n",
       "      <th>studios</th>\n",
       "      <th>source</th>\n",
       "      <th>genres</th>\n",
       "      <th>themes</th>\n",
       "      <th>demographic</th>\n",
       "      <th>popularity</th>\n",
       "    </tr>\n",
       "  </thead>\n",
       "  <tbody>\n",
       "    <tr>\n",
       "      <th>0</th>\n",
       "      <td>1.0</td>\n",
       "      <td>Fullmetal Alchemist: Brotherhood</td>\n",
       "      <td>TV (64 eps)</td>\n",
       "      <td>Apr 2009 - Jul 2010</td>\n",
       "      <td>3018336</td>\n",
       "      <td>9.12</td>\n",
       "      <td>https://myanimelist.net/anime/5114/Fullmetal_A...</td>\n",
       "      <td>Sundays at 17:00 (JST)</td>\n",
       "      <td>Bones</td>\n",
       "      <td>Manga</td>\n",
       "      <td>Action, Adventure, Drama, Fantasy</td>\n",
       "      <td>Military</td>\n",
       "      <td>Shounen</td>\n",
       "      <td>3</td>\n",
       "    </tr>\n",
       "    <tr>\n",
       "      <th>1</th>\n",
       "      <td>2.0</td>\n",
       "      <td>Kaguya-sama wa Kokurasetai: Ultra Romantic</td>\n",
       "      <td>TV (13 eps)</td>\n",
       "      <td>Apr 2022 - Jun 2022</td>\n",
       "      <td>687194</td>\n",
       "      <td>9.10</td>\n",
       "      <td>https://myanimelist.net/anime/43608/Kaguya-sam...</td>\n",
       "      <td>Saturdays at 00:00 (JST)</td>\n",
       "      <td>A-1 Pictures</td>\n",
       "      <td>Manga</td>\n",
       "      <td>Comedy, Romance</td>\n",
       "      <td>Psychological, School</td>\n",
       "      <td>Seinen</td>\n",
       "      <td>242</td>\n",
       "    </tr>\n",
       "    <tr>\n",
       "      <th>2</th>\n",
       "      <td>3.0</td>\n",
       "      <td>Bleach: Sennen Kessen-hen</td>\n",
       "      <td>TV (? eps)</td>\n",
       "      <td>Oct 2022 -</td>\n",
       "      <td>278650</td>\n",
       "      <td>9.08</td>\n",
       "      <td>https://myanimelist.net/anime/41467/Bleach__Se...</td>\n",
       "      <td>Tuesdays at 00:00 (JST)</td>\n",
       "      <td>Pierrot</td>\n",
       "      <td>Manga</td>\n",
       "      <td>Action, Adventure, Fantasy</td>\n",
       "      <td>Music</td>\n",
       "      <td>Shounen</td>\n",
       "      <td>748</td>\n",
       "    </tr>\n",
       "    <tr>\n",
       "      <th>3</th>\n",
       "      <td>4.0</td>\n",
       "      <td>Gintama°</td>\n",
       "      <td>TV (51 eps)</td>\n",
       "      <td>Apr 2015 - Mar 2016</td>\n",
       "      <td>563143</td>\n",
       "      <td>9.08</td>\n",
       "      <td>https://myanimelist.net/anime/28977/Gintama°</td>\n",
       "      <td>Wednesdays at 18:00 (JST)</td>\n",
       "      <td>Bandai Namco Pictures</td>\n",
       "      <td>Manga</td>\n",
       "      <td>Action, Comedy, Sci-Fi</td>\n",
       "      <td>Gag Humor, Historical, Parody, Samurai</td>\n",
       "      <td>Shounen</td>\n",
       "      <td>337</td>\n",
       "    </tr>\n",
       "    <tr>\n",
       "      <th>4</th>\n",
       "      <td>5.0</td>\n",
       "      <td>Steins;Gate</td>\n",
       "      <td>TV (24 eps)</td>\n",
       "      <td>Apr 2011 - Sep 2011</td>\n",
       "      <td>2324018</td>\n",
       "      <td>9.08</td>\n",
       "      <td>https://myanimelist.net/anime/9253/Steins_Gate</td>\n",
       "      <td>Wednesdays at 02:05 (JST)</td>\n",
       "      <td>White Fox</td>\n",
       "      <td>Visual</td>\n",
       "      <td>Drama, Sci-Fi, Suspense</td>\n",
       "      <td>Psychological, Time Travel</td>\n",
       "      <td>Kids</td>\n",
       "      <td>13</td>\n",
       "    </tr>\n",
       "  </tbody>\n",
       "</table>\n",
       "</div>"
      ],
      "text/plain": [
       "   position                                       title     episodes  \\\n",
       "0       1.0            Fullmetal Alchemist: Brotherhood  TV (64 eps)   \n",
       "1       2.0  Kaguya-sama wa Kokurasetai: Ultra Romantic  TV (13 eps)   \n",
       "2       3.0                   Bleach: Sennen Kessen-hen   TV (? eps)   \n",
       "3       4.0                                    Gintama°  TV (51 eps)   \n",
       "4       5.0                                 Steins;Gate  TV (24 eps)   \n",
       "\n",
       "          release_date  members  score  \\\n",
       "0  Apr 2009 - Jul 2010  3018336   9.12   \n",
       "1  Apr 2022 - Jun 2022   687194   9.10   \n",
       "2           Oct 2022 -   278650   9.08   \n",
       "3  Apr 2015 - Mar 2016   563143   9.08   \n",
       "4  Apr 2011 - Sep 2011  2324018   9.08   \n",
       "\n",
       "                                             details  \\\n",
       "0  https://myanimelist.net/anime/5114/Fullmetal_A...   \n",
       "1  https://myanimelist.net/anime/43608/Kaguya-sam...   \n",
       "2  https://myanimelist.net/anime/41467/Bleach__Se...   \n",
       "3       https://myanimelist.net/anime/28977/Gintama°   \n",
       "4     https://myanimelist.net/anime/9253/Steins_Gate   \n",
       "\n",
       "                   broadcast                studios  source  \\\n",
       "0     Sundays at 17:00 (JST)                  Bones   Manga   \n",
       "1   Saturdays at 00:00 (JST)           A-1 Pictures   Manga   \n",
       "2    Tuesdays at 00:00 (JST)                Pierrot   Manga   \n",
       "3  Wednesdays at 18:00 (JST)  Bandai Namco Pictures   Manga   \n",
       "4  Wednesdays at 02:05 (JST)              White Fox  Visual   \n",
       "\n",
       "                              genres                                  themes  \\\n",
       "0  Action, Adventure, Drama, Fantasy                                Military   \n",
       "1                    Comedy, Romance                   Psychological, School   \n",
       "2         Action, Adventure, Fantasy                                   Music   \n",
       "3             Action, Comedy, Sci-Fi  Gag Humor, Historical, Parody, Samurai   \n",
       "4            Drama, Sci-Fi, Suspense              Psychological, Time Travel   \n",
       "\n",
       "  demographic  popularity  \n",
       "0     Shounen           3  \n",
       "1      Seinen         242  \n",
       "2     Shounen         748  \n",
       "3     Shounen         337  \n",
       "4        Kids          13  "
      ]
     },
     "execution_count": 219,
     "metadata": {},
     "output_type": "execute_result"
    }
   ],
   "source": [
    "dfAnime.head()"
   ]
  },
  {
   "cell_type": "markdown",
   "metadata": {},
   "source": [
    "# POSTTEST 6 \"MEMBUAT MODEL DNN\""
   ]
  },
  {
   "cell_type": "markdown",
   "metadata": {},
   "source": [
    "##### deklarasi variabel kolom"
   ]
  },
  {
   "cell_type": "code",
   "execution_count": 220,
   "metadata": {},
   "outputs": [],
   "source": [
    "posisi = 'position'\n",
    "member ='members'\n",
    "popularity = 'popularity'\n",
    "skor = 'score'"
   ]
  },
  {
   "cell_type": "code",
   "execution_count": 221,
   "metadata": {},
   "outputs": [],
   "source": [
    "x = df.drop('popularity',axis=1) #feature\n",
    "y = df['popularity'] #target"
   ]
  },
  {
   "cell_type": "markdown",
   "metadata": {},
   "source": [
    "### MELAKUKAN TRAIN TEST SPLIT DATA"
   ]
  },
  {
   "cell_type": "code",
   "execution_count": 222,
   "metadata": {},
   "outputs": [],
   "source": [
    "# Pemisahan data\n",
    "\n",
    "X = dfAnime[[posisi , member]]\n",
    "y = dfAnime[popularity]\n",
    "\n",
    "# Train-test split\n",
    "X_train, X_test, y_train, y_test = train_test_split(X, y, test_size=0.3, random_state=30)"
   ]
  },
  {
   "cell_type": "markdown",
   "metadata": {},
   "source": [
    "### MELAKUKAN STANDARISASI DAN LABEL ENCODING"
   ]
  },
  {
   "cell_type": "code",
   "execution_count": 223,
   "metadata": {},
   "outputs": [],
   "source": [
    "scaler = StandardScaler()\n",
    "X_train = scaler.fit_transform(X_train)\n",
    "X_test = scaler.transform(X_test)\n",
    "\n",
    "le = LabelEncoder()\n",
    "y_train = le.fit_transform(y_train)\n",
    "y_test = le.fit_transform(y_test)"
   ]
  },
  {
   "cell_type": "markdown",
   "metadata": {},
   "source": [
    "### MENGGUNAKAN SEQUENTIAL MODEL"
   ]
  },
  {
   "cell_type": "code",
   "execution_count": 224,
   "metadata": {},
   "outputs": [],
   "source": [
    "\n",
    "from keras import Sequential\n",
    "from keras.layers import Dense\n",
    "from keras.layers import Dropout\n"
   ]
  },
  {
   "cell_type": "code",
   "execution_count": 225,
   "metadata": {},
   "outputs": [],
   "source": [
    "model = Sequential()\n",
    "\n",
    "# input layer\n",
    "model.add(Dense(64, activation='relu', input_dim=X_train.shape[1]))\n",
    "\n",
    "# hidden layers\n",
    "model.add(Dense(32, activation='relu'))\n",
    "model.add(Dense(16, activation='relu'))\n",
    "\n",
    "# output layer\n",
    "model.add(Dense(1, activation='linear'))\n",
    "\n",
    "#Menggunakan teknik regularisasi seperti dropout dapat membantu mengurangi overfitting.\n",
    "model.add(Dropout(0.63))"
   ]
  },
  {
   "cell_type": "markdown",
   "metadata": {},
   "source": [
    "### MELAKUKAN MODEL COMPILE"
   ]
  },
  {
   "cell_type": "code",
   "execution_count": 226,
   "metadata": {},
   "outputs": [],
   "source": [
    "model.compile(\n",
    "    optimizer='adam',\n",
    "    loss='mean_squared_error',\n",
    "    metrics=['mae']\n",
    ")"
   ]
  },
  {
   "cell_type": "markdown",
   "metadata": {},
   "source": [
    "### MENGGUNAKAN FUNGSI CALLBACK"
   ]
  },
  {
   "cell_type": "code",
   "execution_count": 227,
   "metadata": {},
   "outputs": [],
   "source": [
    "from keras.callbacks import EarlyStopping, ModelCheckpoint\n",
    "\n",
    "# Callback untuk menghentikan pelatihan jika val_loss tidak membaik dalam 10 epochs\n",
    "early_stopping = EarlyStopping(monitor='val_loss', patience=10, restore_best_weights=True)\n",
    "\n",
    "# Callback untuk menyimpan model terbaik selama pelatihan\n",
    "model_checkpoint = ModelCheckpoint('best_model.h5', save_best_only=True, save_weights_only=True)\n",
    "\n",
    "# Definisikan daftar callback\n",
    "callback_list = [early_stopping, model_checkpoint]"
   ]
  },
  {
   "cell_type": "markdown",
   "metadata": {},
   "source": [
    "### MELATIH MODEL DENGAN MENGGUNAKAN FUNGSI CALLBACK"
   ]
  },
  {
   "cell_type": "code",
   "execution_count": 228,
   "metadata": {},
   "outputs": [
    {
     "name": "stdout",
     "output_type": "stream",
     "text": [
      "Epoch 1/100\n",
      "505/505 [==============================] - 3s 4ms/step - loss: 64845608.0000 - mae: 6640.3726 - val_loss: 1159376.8750 - val_mae: 835.5530\n",
      "Epoch 2/100\n",
      "505/505 [==============================] - 2s 3ms/step - loss: 51237572.0000 - mae: 5447.0596 - val_loss: 1101957.8750 - val_mae: 805.7780\n",
      "Epoch 3/100\n",
      "505/505 [==============================] - 2s 3ms/step - loss: 51248620.0000 - mae: 5435.0654 - val_loss: 1097013.8750 - val_mae: 798.9957\n",
      "Epoch 4/100\n",
      "505/505 [==============================] - 2s 3ms/step - loss: 50906308.0000 - mae: 5403.9316 - val_loss: 1103589.7500 - val_mae: 799.8148\n",
      "Epoch 5/100\n",
      "505/505 [==============================] - 2s 3ms/step - loss: 50682500.0000 - mae: 5374.0146 - val_loss: 1114350.7500 - val_mae: 804.0464\n",
      "Epoch 6/100\n",
      "505/505 [==============================] - 2s 3ms/step - loss: 50969104.0000 - mae: 5398.8403 - val_loss: 1098800.1250 - val_mae: 795.1065\n",
      "Epoch 7/100\n",
      "505/505 [==============================] - 2s 3ms/step - loss: 50334704.0000 - mae: 5342.1885 - val_loss: 997510.1250 - val_mae: 754.8414\n",
      "Epoch 8/100\n",
      "505/505 [==============================] - 2s 3ms/step - loss: 51917884.0000 - mae: 5463.7261 - val_loss: 1088358.1250 - val_mae: 785.1760\n",
      "Epoch 9/100\n",
      "505/505 [==============================] - 2s 3ms/step - loss: 51383416.0000 - mae: 5411.5908 - val_loss: 974924.2500 - val_mae: 736.4398\n",
      "Epoch 10/100\n",
      "505/505 [==============================] - 2s 3ms/step - loss: 50988312.0000 - mae: 5381.5991 - val_loss: 962361.5625 - val_mae: 733.5067\n",
      "Epoch 11/100\n",
      "505/505 [==============================] - 2s 3ms/step - loss: 50838504.0000 - mae: 5346.0889 - val_loss: 884742.5625 - val_mae: 698.9134\n",
      "Epoch 12/100\n",
      "505/505 [==============================] - 2s 3ms/step - loss: 50831664.0000 - mae: 5335.7368 - val_loss: 897635.0625 - val_mae: 700.6265\n",
      "Epoch 13/100\n",
      "505/505 [==============================] - 2s 3ms/step - loss: 50880064.0000 - mae: 5341.0508 - val_loss: 941903.6875 - val_mae: 719.8494\n",
      "Epoch 14/100\n",
      "505/505 [==============================] - 2s 3ms/step - loss: 50870572.0000 - mae: 5337.4131 - val_loss: 902440.9375 - val_mae: 702.0383\n",
      "Epoch 15/100\n",
      "505/505 [==============================] - 2s 3ms/step - loss: 50162552.0000 - mae: 5282.1992 - val_loss: 871880.5000 - val_mae: 690.3453\n",
      "Epoch 16/100\n",
      "505/505 [==============================] - 2s 3ms/step - loss: 50340656.0000 - mae: 5290.4985 - val_loss: 835930.9375 - val_mae: 671.9402\n",
      "Epoch 17/100\n",
      "505/505 [==============================] - 2s 3ms/step - loss: 50534604.0000 - mae: 5312.7290 - val_loss: 907517.6250 - val_mae: 701.8002\n",
      "Epoch 18/100\n",
      "505/505 [==============================] - 2s 3ms/step - loss: 50325556.0000 - mae: 5290.4771 - val_loss: 786351.7500 - val_mae: 648.0511\n",
      "Epoch 19/100\n",
      "505/505 [==============================] - 2s 3ms/step - loss: 49837452.0000 - mae: 5239.9570 - val_loss: 772525.5625 - val_mae: 639.3774\n",
      "Epoch 20/100\n",
      "505/505 [==============================] - 2s 3ms/step - loss: 50327512.0000 - mae: 5295.2539 - val_loss: 865892.0625 - val_mae: 678.2533\n",
      "Epoch 21/100\n",
      "505/505 [==============================] - 2s 3ms/step - loss: 50770472.0000 - mae: 5296.0278 - val_loss: 831763.2500 - val_mae: 667.9290\n",
      "Epoch 22/100\n",
      "505/505 [==============================] - 2s 3ms/step - loss: 50609936.0000 - mae: 5279.0122 - val_loss: 760705.8750 - val_mae: 633.6793\n",
      "Epoch 23/100\n",
      "505/505 [==============================] - 2s 3ms/step - loss: 50580132.0000 - mae: 5291.0459 - val_loss: 768745.3125 - val_mae: 635.3853\n",
      "Epoch 24/100\n",
      "505/505 [==============================] - 2s 3ms/step - loss: 50040448.0000 - mae: 5243.4131 - val_loss: 824881.8125 - val_mae: 668.8410\n",
      "Epoch 25/100\n",
      "505/505 [==============================] - 2s 3ms/step - loss: 50505496.0000 - mae: 5261.8315 - val_loss: 794382.2500 - val_mae: 642.7569\n",
      "Epoch 26/100\n",
      "505/505 [==============================] - 2s 3ms/step - loss: 50505972.0000 - mae: 5257.6904 - val_loss: 852060.0000 - val_mae: 687.5818\n",
      "Epoch 27/100\n",
      "505/505 [==============================] - 2s 3ms/step - loss: 50509808.0000 - mae: 5255.0449 - val_loss: 739913.7500 - val_mae: 620.5917\n",
      "Epoch 28/100\n",
      "505/505 [==============================] - 2s 3ms/step - loss: 50817876.0000 - mae: 5256.9263 - val_loss: 756656.1875 - val_mae: 622.5676\n",
      "Epoch 29/100\n",
      "505/505 [==============================] - 2s 3ms/step - loss: 50275396.0000 - mae: 5214.3267 - val_loss: 706005.9375 - val_mae: 611.7133\n",
      "Epoch 30/100\n",
      "505/505 [==============================] - 2s 3ms/step - loss: 50479212.0000 - mae: 5231.2612 - val_loss: 731583.2500 - val_mae: 619.8079\n",
      "Epoch 31/100\n",
      "505/505 [==============================] - 2s 3ms/step - loss: 49348820.0000 - mae: 5126.8052 - val_loss: 792767.6250 - val_mae: 668.6014\n",
      "Epoch 32/100\n",
      "505/505 [==============================] - 2s 3ms/step - loss: 49859668.0000 - mae: 5167.8706 - val_loss: 544044.7500 - val_mae: 532.0149\n",
      "Epoch 33/100\n",
      "505/505 [==============================] - 2s 3ms/step - loss: 50118088.0000 - mae: 5175.8735 - val_loss: 729922.7500 - val_mae: 638.2155\n",
      "Epoch 34/100\n",
      "505/505 [==============================] - 2s 3ms/step - loss: 49672660.0000 - mae: 5122.5005 - val_loss: 690171.3125 - val_mae: 611.9988\n",
      "Epoch 35/100\n",
      "505/505 [==============================] - 2s 3ms/step - loss: 50953020.0000 - mae: 5210.4766 - val_loss: 716073.9375 - val_mae: 632.2556\n",
      "Epoch 36/100\n",
      "505/505 [==============================] - 2s 3ms/step - loss: 49596232.0000 - mae: 5130.3765 - val_loss: 687595.1250 - val_mae: 609.8269\n",
      "Epoch 37/100\n",
      "505/505 [==============================] - 2s 3ms/step - loss: 51017224.0000 - mae: 5214.0776 - val_loss: 736564.0625 - val_mae: 644.4639\n",
      "Epoch 38/100\n",
      "505/505 [==============================] - 2s 3ms/step - loss: 50177584.0000 - mae: 5165.8506 - val_loss: 694704.5000 - val_mae: 618.7592\n",
      "Epoch 39/100\n",
      "505/505 [==============================] - 2s 3ms/step - loss: 50466932.0000 - mae: 5166.6504 - val_loss: 611806.8125 - val_mae: 574.0707\n",
      "Epoch 40/100\n",
      "505/505 [==============================] - 2s 3ms/step - loss: 49980840.0000 - mae: 5119.8516 - val_loss: 698196.8125 - val_mae: 621.7338\n",
      "Epoch 41/100\n",
      "505/505 [==============================] - 2s 3ms/step - loss: 49314284.0000 - mae: 5068.3125 - val_loss: 630634.0625 - val_mae: 586.0966\n",
      "Epoch 42/100\n",
      "505/505 [==============================] - 2s 3ms/step - loss: 50394292.0000 - mae: 5159.6895 - val_loss: 694452.5000 - val_mae: 638.9240\n"
     ]
    }
   ],
   "source": [
    "history = model.fit(X_train, y_train, epochs=100, batch_size=32, validation_data=(X_test, y_test), callbacks=callback_list , verbose=1)"
   ]
  },
  {
   "cell_type": "markdown",
   "metadata": {},
   "source": [
    "### MELAKUKAN EVALUASI MODEL DENGAN R2 SCORE"
   ]
  },
  {
   "cell_type": "code",
   "execution_count": 229,
   "metadata": {},
   "outputs": [],
   "source": [
    "from sklearn.metrics import r2_score"
   ]
  },
  {
   "cell_type": "code",
   "execution_count": 230,
   "metadata": {},
   "outputs": [
    {
     "name": "stdout",
     "output_type": "stream",
     "text": [
      "217/217 [==============================] - 0s 2ms/step\n",
      "R2 Score: 0.8562884321516109\n"
     ]
    }
   ],
   "source": [
    "y_pred = model.predict(X_test)\n",
    "r2 = r2_score(y_test, y_pred)\n",
    "print(f\"R2 Score: {r2}\")"
   ]
  },
  {
   "cell_type": "markdown",
   "metadata": {},
   "source": [
    "## PLOT MAE (MEAN ABSOLUTE ERROR)"
   ]
  },
  {
   "cell_type": "code",
   "execution_count": 239,
   "metadata": {},
   "outputs": [
    {
     "data": {
      "image/png": "[encoded data removed]",
      "text/plain": [
       "<Figure size 2500x1000 with 1 Axes>"
      ]
     },
     "metadata": {},
     "output_type": "display_data"
    }
   ],
   "source": [
    "plt.figure(figsize=(25, 10))\n",
    "plt.subplot(1, 2, 1)\n",
    "plt.plot(history.history['mae'], label='Training MAE')\n",
    "plt.plot(history.history['val_mae'], label='Validation MAE')\n",
    "plt.xlabel('Epochs')\n",
    "plt.ylabel('MAE')\n",
    "plt.legend()\n",
    "plt.show()"
   ]
  },
  {
   "cell_type": "markdown",
   "metadata": {},
   "source": [
    "## PLOT LOSS"
   ]
  },
  {
   "cell_type": "code",
   "execution_count": 240,
   "metadata": {},
   "outputs": [
    {
     "data": {
      "image/png": "[encoded data removed]",
      "text/plain": [
       "<Figure size 2500x1000 with 1 Axes>"
      ]
     },
     "metadata": {},
     "output_type": "display_data"
    }
   ],
   "source": [
    "plt.figure(figsize=(25, 10))\n",
    "plt.subplot(1, 2, 1)\n",
    "plt.plot(history.history['loss'], label='Training Loss')\n",
    "plt.plot(history.history['val_loss'], label='Validation Loss')\n",
    "plt.xlabel('Epochs')\n",
    "plt.ylabel('Loss')\n",
    "plt.legend()\n",
    "plt.show()"
   ]
  }
 ],
 "metadata": {
  "kernelspec": {
   "display_name": "Python 3",
   "language": "python",
   "name": "python3"
  },
  "language_info": {
   "codemirror_mode": {
    "name": "ipython",
    "version": 3
   },
   "file_extension": ".py",
   "mimetype": "text/x-python",
   "name": "python",
   "nbconvert_exporter": "python",
   "pygments_lexer": "ipython3",
   "version": "3.10.7"
  },
  "orig_nbformat": 4
 },
 "nbformat": 4,
 "nbformat_minor": 2
}
