{
 "cells": [
  {
   "cell_type": "markdown",
   "metadata": {},
   "source": [
    "## Nama : Ashadi Permana\n",
    "## NIM : 2209106033\n",
    "## Kelas Praktikum : A22"
   ]
  },
  {
   "cell_type": "markdown",
   "metadata": {},
   "source": [
    "### Untuk Mengimport Library Pandas dan di deklarasikan ke pd"
   ]
  },
  {
   "cell_type": "code",
   "execution_count": 79,
   "metadata": {},
   "outputs": [],
   "source": [
    "import pandas as pd"
   ]
  },
  {
   "cell_type": "markdown",
   "metadata": {},
   "source": [
    "### Untuk Meng Read File CSV"
   ]
  },
  {
   "cell_type": "code",
   "execution_count": 80,
   "metadata": {},
   "outputs": [],
   "source": [
    "dfAnime = pd.read_csv(\"Animes.csv\")\n"
   ]
  },
  {
   "cell_type": "markdown",
   "metadata": {},
   "source": [
    "### MELIHAT INFO DARI DATASET"
   ]
  },
  {
   "cell_type": "code",
   "execution_count": 81,
   "metadata": {},
   "outputs": [
    {
     "name": "stdout",
     "output_type": "stream",
     "text": [
      "<class 'pandas.core.frame.DataFrame'>\n",
      "RangeIndex: 23070 entries, 0 to 23069\n",
      "Data columns (total 14 columns):\n",
      " #   Column        Non-Null Count  Dtype  \n",
      "---  ------        --------------  -----  \n",
      " 0   position      21150 non-null  float64\n",
      " 1   title         23070 non-null  object \n",
      " 2   episodes      23070 non-null  object \n",
      " 3   release_date  23070 non-null  object \n",
      " 4   members       23070 non-null  int64  \n",
      " 5   score         23070 non-null  float64\n",
      " 6   details       23070 non-null  object \n",
      " 7   broadcast     7238 non-null   object \n",
      " 8   studios       23070 non-null  object \n",
      " 9   source        23070 non-null  object \n",
      " 10  genres        10609 non-null  object \n",
      " 11  themes        12543 non-null  object \n",
      " 12  demographic   9054 non-null   object \n",
      " 13  popularity    23070 non-null  int64  \n",
      "dtypes: float64(2), int64(2), object(10)\n",
      "memory usage: 2.5+ MB\n"
     ]
    }
   ],
   "source": [
    "dfAnime.info()"
   ]
  },
  {
   "cell_type": "markdown",
   "metadata": {},
   "source": [
    "### Fungsi train_test_split dari pustaka scikit-learn (sklearn) digunakan untuk membagi dataset menjadi dua subset yang berbeda"
   ]
  },
  {
   "cell_type": "code",
   "execution_count": 82,
   "metadata": {},
   "outputs": [],
   "source": [
    "from sklearn.model_selection import train_test_split"
   ]
  },
  {
   "cell_type": "markdown",
   "metadata": {},
   "source": [
    "## 1. Melakukan Data Split"
   ]
  },
  {
   "cell_type": "markdown",
   "metadata": {},
   "source": [
    "### Pembagian dataset menjadi training set (70%) dan testing set (30%)"
   ]
  },
  {
   "cell_type": "code",
   "execution_count": 83,
   "metadata": {},
   "outputs": [],
   "source": [
    "x = dfAnime.drop('popularity', axis=1)  \n",
    "y = dfAnime['popularity']\n",
    "\n",
    "\n",
    "x_train, x_test, y_train, y_test = train_test_split(x, y, test_size=0.3)"
   ]
  },
  {
   "cell_type": "markdown",
   "metadata": {},
   "source": [
    "### Melihat Dataset training set dan testing set"
   ]
  },
  {
   "cell_type": "code",
   "execution_count": 84,
   "metadata": {},
   "outputs": [
    {
     "name": "stdout",
     "output_type": "stream",
     "text": [
      "dimensi x_train =  (16149, 13)\n",
      "dimensi x_test =  (6921, 13)\n",
      "dimensi y_train =  (16149,)\n",
      "dimensi y_test =  (6921,)\n"
     ]
    }
   ],
   "source": [
    "print(\"dimensi x_train = \", x_train.shape)\n",
    "print(\"dimensi x_test = \", x_test.shape)\n",
    "print(\"dimensi y_train = \", y_train.shape)\n",
    "print(\"dimensi y_test = \", y_test.shape)"
   ]
  },
  {
   "cell_type": "markdown",
   "metadata": {},
   "source": [
    "### fungsi MinMaxScaler dari pustaka sci-kit learn (sklearn) digunakan untuk melakukan normalisasi"
   ]
  },
  {
   "cell_type": "code",
   "execution_count": 85,
   "metadata": {},
   "outputs": [],
   "source": [
    "from sklearn.preprocessing import MinMaxScaler"
   ]
  },
  {
   "cell_type": "markdown",
   "metadata": {},
   "source": [
    "### 2. Melakukan Normalisasi (Dengan Kolom Score)"
   ]
  },
  {
   "cell_type": "code",
   "execution_count": 86,
   "metadata": {},
   "outputs": [],
   "source": [
    "dfAnime_copy = dfAnime.copy()\n",
    "\n",
    "scaler = MinMaxScaler()\n",
    "\n",
    "Scaled_data = scaler.fit_transform(dfAnime_copy[['score']])\n",
    "dfAnime_copy['score'] = Scaled_data"
   ]
  },
  {
   "cell_type": "markdown",
   "metadata": {},
   "source": [
    "### MELIHAT HASIL NORMALISASI PADA KOLOM SCORE"
   ]
  },
  {
   "cell_type": "code",
   "execution_count": 87,
   "metadata": {},
   "outputs": [
    {
     "name": "stdout",
     "output_type": "stream",
     "text": [
      "sebelum dinormalisasi: \n",
      "count    23070.000000\n",
      "mean         4.116137\n",
      "std          3.165004\n",
      "min          0.000000\n",
      "25%          0.000000\n",
      "50%          5.700000\n",
      "75%          6.680000\n",
      "max          9.120000\n",
      "Name: score, dtype: float64\n",
      "\n",
      "\n",
      "\n",
      "\n",
      "setelah dinormalisasi: \n",
      "count    23070.000000\n",
      "mean         0.451331\n",
      "std          0.347040\n",
      "min          0.000000\n",
      "25%          0.000000\n",
      "50%          0.625000\n",
      "75%          0.732456\n",
      "max          1.000000\n",
      "Name: score, dtype: float64\n"
     ]
    }
   ],
   "source": [
    "print(\"sebelum dinormalisasi: \")\n",
    "print(dfAnime['score'].describe())\n",
    "print('\\n')\n",
    "print(\"\\n\")\n",
    "print(\"setelah dinormalisasi: \")\n",
    "print(dfAnime_copy['score'].describe())"
   ]
  },
  {
   "cell_type": "markdown",
   "metadata": {},
   "source": [
    "### fungsi StandarScaler dari pustaka sci-kit learn (sklearn) digunakan untuk melakukan Standarisasi"
   ]
  },
  {
   "cell_type": "code",
   "execution_count": 88,
   "metadata": {},
   "outputs": [],
   "source": [
    "from sklearn.preprocessing import StandardScaler\n",
    "import numpy as np"
   ]
  },
  {
   "cell_type": "markdown",
   "metadata": {},
   "source": [
    "### 3. Melakukan Standarisasi"
   ]
  },
  {
   "cell_type": "code",
   "execution_count": 89,
   "metadata": {},
   "outputs": [],
   "source": [
    "dfAnime_copy2 = dfAnime.copy()\n",
    "\n",
    "scaler = StandardScaler()\n",
    "\n",
    "Scaled_data = scaler.fit_transform(dfAnime_copy2[['score']])\n",
    "dfAnime_copy2['score'] = Scaled_data"
   ]
  },
  {
   "cell_type": "markdown",
   "metadata": {},
   "source": [
    "### HAsil Dari STANDARISASI"
   ]
  },
  {
   "cell_type": "code",
   "execution_count": 90,
   "metadata": {},
   "outputs": [
    {
     "name": "stdout",
     "output_type": "stream",
     "text": [
      "Nilai Deviasi standar (BEFORE) : \n",
      "3.1649358971330352\n",
      "\n",
      "\n",
      "\n",
      "\n",
      "Nilai Deviasi standar (AFTER): \n",
      "1.0\n"
     ]
    }
   ],
   "source": [
    "print(\"Nilai Deviasi standar (BEFORE) : \")\n",
    "print(np.std(dfAnime['score']))\n",
    "print('\\n')\n",
    "print('\\n')\n",
    "print(\"Nilai Deviasi standar (AFTER): \")\n",
    "print(np.std(dfAnime_copy2['score']))"
   ]
  },
  {
   "cell_type": "markdown",
   "metadata": {},
   "source": [
    "### 4. MENANGANI NILAI NULL"
   ]
  },
  {
   "cell_type": "markdown",
   "metadata": {},
   "source": [
    "#### menangani nilai null pada kolom bertipe float dengan strategy median"
   ]
  },
  {
   "cell_type": "markdown",
   "metadata": {},
   "source": [
    "### menangani nilai null dengan membuat copy dataset agar bisa melihat perbedaannya"
   ]
  },
  {
   "cell_type": "code",
   "execution_count": 91,
   "metadata": {},
   "outputs": [],
   "source": [
    "df_anime_non_null = dfAnime.copy()"
   ]
  },
  {
   "cell_type": "markdown",
   "metadata": {},
   "source": [
    "#### menangani nilai null pada kolom bertipe Float dengan strategy mean"
   ]
  },
  {
   "cell_type": "code",
   "execution_count": 92,
   "metadata": {},
   "outputs": [],
   "source": [
    "df_anime_non_null[\"position\"].fillna(df_anime_non_null[\"position\"].mean(), inplace= True)"
   ]
  },
  {
   "cell_type": "markdown",
   "metadata": {},
   "source": [
    "### membuat nilai null pada kolom members (int)"
   ]
  },
  {
   "cell_type": "code",
   "execution_count": 93,
   "metadata": {},
   "outputs": [
    {
     "name": "stdout",
     "output_type": "stream",
     "text": [
      "Nilai Null Pada Kolom Members:\n",
      "3070\n"
     ]
    }
   ],
   "source": [
    "df_anime_non_null.loc[20000:,'members'] = np.nan\n",
    "dfAnime.loc[20000:,'members'] = np.nan\n",
    "\n",
    "print(\"Nilai Null Pada Kolom Members:\")\n",
    "print(df_anime_non_null['members'].isna().sum())"
   ]
  },
  {
   "cell_type": "markdown",
   "metadata": {},
   "source": [
    "#### menangani nilai null pada kolom bertipe int dengan strategy median"
   ]
  },
  {
   "cell_type": "code",
   "execution_count": 94,
   "metadata": {},
   "outputs": [],
   "source": [
    "df_anime_non_null[\"members\"].fillna(df_anime_non_null[\"members\"].median(), inplace= True)"
   ]
  },
  {
   "cell_type": "markdown",
   "metadata": {},
   "source": [
    "#### menangani nilai null pada kolom bertipe object dengan strategy modus"
   ]
  },
  {
   "cell_type": "code",
   "execution_count": 95,
   "metadata": {},
   "outputs": [],
   "source": [
    "df_anime_non_null[\"demographic\"].fillna(df_anime_non_null[\"demographic\"].mode()[0], inplace= True)\n",
    "df_anime_non_null[\"broadcast\"].fillna(df_anime_non_null[\"broadcast\"].mode()[0], inplace= True)\n",
    "df_anime_non_null[\"genres\"].fillna(df_anime_non_null[\"genres\"].mode()[0], inplace= True)\n",
    "df_anime_non_null[\"themes\"].fillna(df_anime_non_null[\"themes\"].mode()[0], inplace= True)"
   ]
  },
  {
   "cell_type": "markdown",
   "metadata": {},
   "source": [
    "### mengecek nilai null semua kolom pada database anime biasa (null)"
   ]
  },
  {
   "cell_type": "code",
   "execution_count": 96,
   "metadata": {},
   "outputs": [
    {
     "data": {
      "text/plain": [
       "position         1920\n",
       "title               0\n",
       "episodes            0\n",
       "release_date        0\n",
       "members          3070\n",
       "score               0\n",
       "details             0\n",
       "broadcast       15832\n",
       "studios             0\n",
       "source              0\n",
       "genres          12461\n",
       "themes          10527\n",
       "demographic     14016\n",
       "popularity          0\n",
       "dtype: int64"
      ]
     },
     "execution_count": 96,
     "metadata": {},
     "output_type": "execute_result"
    }
   ],
   "source": [
    "dfAnime.isna().sum()"
   ]
  },
  {
   "cell_type": "code",
   "execution_count": 97,
   "metadata": {},
   "outputs": [],
   "source": [
    "#menghapus nilai null pada kolom members pada dataset anime biasa yg tadi dibuat\n",
    "dfAnime[\"members\"].fillna(df_anime_non_null[\"members\"].mean(), inplace= True)"
   ]
  },
  {
   "cell_type": "markdown",
   "metadata": {},
   "source": [
    "### mengecek nilai null semua kolom pada database anime copy (not null)"
   ]
  },
  {
   "cell_type": "code",
   "execution_count": 98,
   "metadata": {},
   "outputs": [
    {
     "data": {
      "text/plain": [
       "position        0\n",
       "title           0\n",
       "episodes        0\n",
       "release_date    0\n",
       "members         0\n",
       "score           0\n",
       "details         0\n",
       "broadcast       0\n",
       "studios         0\n",
       "source          0\n",
       "genres          0\n",
       "themes          0\n",
       "demographic     0\n",
       "popularity      0\n",
       "dtype: int64"
      ]
     },
     "execution_count": 98,
     "metadata": {},
     "output_type": "execute_result"
    }
   ],
   "source": [
    "df_anime_non_null.isna().sum()"
   ]
  },
  {
   "cell_type": "markdown",
   "metadata": {},
   "source": [
    "### 5. MEMBUAT DAN MENGATASI NILAI DUPLIKAT"
   ]
  },
  {
   "cell_type": "code",
   "execution_count": 99,
   "metadata": {},
   "outputs": [
    {
     "name": "stdout",
     "output_type": "stream",
     "text": [
      "total nilai duplikat : \n"
     ]
    },
    {
     "data": {
      "text/plain": [
       "1"
      ]
     },
     "execution_count": 99,
     "metadata": {},
     "output_type": "execute_result"
    }
   ],
   "source": [
    "df_anime_non_null.iloc[23060 ,:] = df_anime_non_null.iloc[23069,:]\n",
    "\n",
    "print(\"total nilai duplikat : \")\n",
    "df_anime_non_null.duplicated().sum()"
   ]
  },
  {
   "cell_type": "markdown",
   "metadata": {},
   "source": [
    "### Mengatasi Nilai Duplikat"
   ]
  },
  {
   "cell_type": "code",
   "execution_count": 100,
   "metadata": {},
   "outputs": [
    {
     "name": "stdout",
     "output_type": "stream",
     "text": [
      "total nilai duplikat : \n"
     ]
    },
    {
     "data": {
      "text/plain": [
       "0"
      ]
     },
     "execution_count": 100,
     "metadata": {},
     "output_type": "execute_result"
    }
   ],
   "source": [
    "df_anime_non_null.drop_duplicates(inplace=True)\n",
    "\n",
    "print(\"total nilai duplikat : \")\n",
    "df_anime_non_null.duplicated().sum()"
   ]
  },
  {
   "cell_type": "markdown",
   "metadata": {},
   "source": [
    "### 6. Ganti Tipe Data Salah Satu Atribut Angka"
   ]
  },
  {
   "cell_type": "markdown",
   "metadata": {},
   "source": [
    "### tipe data kolom pupularity sebelum diubah"
   ]
  },
  {
   "cell_type": "code",
   "execution_count": 101,
   "metadata": {},
   "outputs": [
    {
     "data": {
      "text/plain": [
       "dtype('int64')"
      ]
     },
     "execution_count": 101,
     "metadata": {},
     "output_type": "execute_result"
    }
   ],
   "source": [
    "df_anime_non_null['popularity'].dtypes"
   ]
  },
  {
   "cell_type": "markdown",
   "metadata": {},
   "source": [
    "### tipe data kolom pupularity sesudah diubah"
   ]
  },
  {
   "cell_type": "code",
   "execution_count": 102,
   "metadata": {},
   "outputs": [
    {
     "data": {
      "text/plain": [
       "dtype('float64')"
      ]
     },
     "execution_count": 102,
     "metadata": {},
     "output_type": "execute_result"
    }
   ],
   "source": [
    "df_anime_non_null['popularity'] = df_anime_non_null['popularity'].astype(float)\n",
    "\n",
    "df_anime_non_null['popularity'].dtypes"
   ]
  },
  {
   "cell_type": "markdown",
   "metadata": {},
   "source": [
    "## 7. MeLakuKan ONE HOT ENCODING"
   ]
  },
  {
   "cell_type": "code",
   "execution_count": 103,
   "metadata": {},
   "outputs": [],
   "source": [
    "onehot = pd.get_dummies(dfAnime[[\"source\"]])\n",
    "\n",
    "dfAnime_onehot = dfAnime.join(onehot.astype(int))"
   ]
  },
  {
   "cell_type": "markdown",
   "metadata": {},
   "source": [
    "### MENAMPILKAN HASIL YANG TELAH DI ONE HOT ENCODING"
   ]
  },
  {
   "cell_type": "code",
   "execution_count": 104,
   "metadata": {},
   "outputs": [
    {
     "data": {
      "text/html": [
       "<div>\n",
       "<style scoped>\n",
       "    .dataframe tbody tr th:only-of-type {\n",
       "        vertical-align: middle;\n",
       "    }\n",
       "\n",
       "    .dataframe tbody tr th {\n",
       "        vertical-align: top;\n",
       "    }\n",
       "\n",
       "    .dataframe thead th {\n",
       "        text-align: right;\n",
       "    }\n",
       "</style>\n",
       "<table border=\"1\" class=\"dataframe\">\n",
       "  <thead>\n",
       "    <tr style=\"text-align: right;\">\n",
       "      <th></th>\n",
       "      <th>position</th>\n",
       "      <th>title</th>\n",
       "      <th>episodes</th>\n",
       "      <th>release_date</th>\n",
       "      <th>members</th>\n",
       "      <th>score</th>\n",
       "      <th>details</th>\n",
       "      <th>broadcast</th>\n",
       "      <th>studios</th>\n",
       "      <th>source</th>\n",
       "      <th>...</th>\n",
       "      <th>source_Mixed</th>\n",
       "      <th>source_Music</th>\n",
       "      <th>source_Novel</th>\n",
       "      <th>source_Original</th>\n",
       "      <th>source_Other</th>\n",
       "      <th>source_Picture</th>\n",
       "      <th>source_Radio</th>\n",
       "      <th>source_Unknown</th>\n",
       "      <th>source_Visual</th>\n",
       "      <th>source_Web</th>\n",
       "    </tr>\n",
       "  </thead>\n",
       "  <tbody>\n",
       "    <tr>\n",
       "      <th>0</th>\n",
       "      <td>1.0</td>\n",
       "      <td>Fullmetal Alchemist: Brotherhood</td>\n",
       "      <td>TV (64 eps)</td>\n",
       "      <td>Apr 2009 - Jul 2010</td>\n",
       "      <td>3.018336e+06</td>\n",
       "      <td>9.12</td>\n",
       "      <td>https://myanimelist.net/anime/5114/Fullmetal_A...</td>\n",
       "      <td>Sundays at 17:00 (JST)</td>\n",
       "      <td>Bones</td>\n",
       "      <td>Manga</td>\n",
       "      <td>...</td>\n",
       "      <td>0</td>\n",
       "      <td>0</td>\n",
       "      <td>0</td>\n",
       "      <td>0</td>\n",
       "      <td>0</td>\n",
       "      <td>0</td>\n",
       "      <td>0</td>\n",
       "      <td>0</td>\n",
       "      <td>0</td>\n",
       "      <td>0</td>\n",
       "    </tr>\n",
       "    <tr>\n",
       "      <th>1</th>\n",
       "      <td>2.0</td>\n",
       "      <td>Kaguya-sama wa Kokurasetai: Ultra Romantic</td>\n",
       "      <td>TV (13 eps)</td>\n",
       "      <td>Apr 2022 - Jun 2022</td>\n",
       "      <td>6.871940e+05</td>\n",
       "      <td>9.10</td>\n",
       "      <td>https://myanimelist.net/anime/43608/Kaguya-sam...</td>\n",
       "      <td>Saturdays at 00:00 (JST)</td>\n",
       "      <td>A-1 Pictures</td>\n",
       "      <td>Manga</td>\n",
       "      <td>...</td>\n",
       "      <td>0</td>\n",
       "      <td>0</td>\n",
       "      <td>0</td>\n",
       "      <td>0</td>\n",
       "      <td>0</td>\n",
       "      <td>0</td>\n",
       "      <td>0</td>\n",
       "      <td>0</td>\n",
       "      <td>0</td>\n",
       "      <td>0</td>\n",
       "    </tr>\n",
       "    <tr>\n",
       "      <th>2</th>\n",
       "      <td>3.0</td>\n",
       "      <td>Bleach: Sennen Kessen-hen</td>\n",
       "      <td>TV (? eps)</td>\n",
       "      <td>Oct 2022 -</td>\n",
       "      <td>2.786500e+05</td>\n",
       "      <td>9.08</td>\n",
       "      <td>https://myanimelist.net/anime/41467/Bleach__Se...</td>\n",
       "      <td>Tuesdays at 00:00 (JST)</td>\n",
       "      <td>Pierrot</td>\n",
       "      <td>Manga</td>\n",
       "      <td>...</td>\n",
       "      <td>0</td>\n",
       "      <td>0</td>\n",
       "      <td>0</td>\n",
       "      <td>0</td>\n",
       "      <td>0</td>\n",
       "      <td>0</td>\n",
       "      <td>0</td>\n",
       "      <td>0</td>\n",
       "      <td>0</td>\n",
       "      <td>0</td>\n",
       "    </tr>\n",
       "    <tr>\n",
       "      <th>3</th>\n",
       "      <td>4.0</td>\n",
       "      <td>Gintama°</td>\n",
       "      <td>TV (51 eps)</td>\n",
       "      <td>Apr 2015 - Mar 2016</td>\n",
       "      <td>5.631430e+05</td>\n",
       "      <td>9.08</td>\n",
       "      <td>https://myanimelist.net/anime/28977/Gintama°</td>\n",
       "      <td>Wednesdays at 18:00 (JST)</td>\n",
       "      <td>Bandai Namco Pictures</td>\n",
       "      <td>Manga</td>\n",
       "      <td>...</td>\n",
       "      <td>0</td>\n",
       "      <td>0</td>\n",
       "      <td>0</td>\n",
       "      <td>0</td>\n",
       "      <td>0</td>\n",
       "      <td>0</td>\n",
       "      <td>0</td>\n",
       "      <td>0</td>\n",
       "      <td>0</td>\n",
       "      <td>0</td>\n",
       "    </tr>\n",
       "    <tr>\n",
       "      <th>4</th>\n",
       "      <td>5.0</td>\n",
       "      <td>Steins;Gate</td>\n",
       "      <td>TV (24 eps)</td>\n",
       "      <td>Apr 2011 - Sep 2011</td>\n",
       "      <td>2.324018e+06</td>\n",
       "      <td>9.08</td>\n",
       "      <td>https://myanimelist.net/anime/9253/Steins_Gate</td>\n",
       "      <td>Wednesdays at 02:05 (JST)</td>\n",
       "      <td>White Fox</td>\n",
       "      <td>Visual</td>\n",
       "      <td>...</td>\n",
       "      <td>0</td>\n",
       "      <td>0</td>\n",
       "      <td>0</td>\n",
       "      <td>0</td>\n",
       "      <td>0</td>\n",
       "      <td>0</td>\n",
       "      <td>0</td>\n",
       "      <td>0</td>\n",
       "      <td>1</td>\n",
       "      <td>0</td>\n",
       "    </tr>\n",
       "    <tr>\n",
       "      <th>...</th>\n",
       "      <td>...</td>\n",
       "      <td>...</td>\n",
       "      <td>...</td>\n",
       "      <td>...</td>\n",
       "      <td>...</td>\n",
       "      <td>...</td>\n",
       "      <td>...</td>\n",
       "      <td>...</td>\n",
       "      <td>...</td>\n",
       "      <td>...</td>\n",
       "      <td>...</td>\n",
       "      <td>...</td>\n",
       "      <td>...</td>\n",
       "      <td>...</td>\n",
       "      <td>...</td>\n",
       "      <td>...</td>\n",
       "      <td>...</td>\n",
       "      <td>...</td>\n",
       "      <td>...</td>\n",
       "      <td>...</td>\n",
       "      <td>...</td>\n",
       "    </tr>\n",
       "    <tr>\n",
       "      <th>23065</th>\n",
       "      <td>NaN</td>\n",
       "      <td>Isaku: Tsumi to Batsu</td>\n",
       "      <td>Special (1 eps)</td>\n",
       "      <td>Mar 1999 - Mar 1999</td>\n",
       "      <td>3.655025e+04</td>\n",
       "      <td>0.00</td>\n",
       "      <td>https://myanimelist.net/anime/43015/Isaku__Tsu...</td>\n",
       "      <td>NaN</td>\n",
       "      <td>Studio Kyuuma</td>\n",
       "      <td>Visual</td>\n",
       "      <td>...</td>\n",
       "      <td>0</td>\n",
       "      <td>0</td>\n",
       "      <td>0</td>\n",
       "      <td>0</td>\n",
       "      <td>0</td>\n",
       "      <td>0</td>\n",
       "      <td>0</td>\n",
       "      <td>0</td>\n",
       "      <td>1</td>\n",
       "      <td>0</td>\n",
       "    </tr>\n",
       "    <tr>\n",
       "      <th>23066</th>\n",
       "      <td>NaN</td>\n",
       "      <td>Isekai Kita node Sukebe Skill de Zenryoku Ouka...</td>\n",
       "      <td>OVA (? eps)</td>\n",
       "      <td>Dec 2022 -</td>\n",
       "      <td>3.655025e+04</td>\n",
       "      <td>0.00</td>\n",
       "      <td>https://myanimelist.net/anime/53204/Isekai_Kit...</td>\n",
       "      <td>NaN</td>\n",
       "      <td>Shion</td>\n",
       "      <td>Manga</td>\n",
       "      <td>...</td>\n",
       "      <td>0</td>\n",
       "      <td>0</td>\n",
       "      <td>0</td>\n",
       "      <td>0</td>\n",
       "      <td>0</td>\n",
       "      <td>0</td>\n",
       "      <td>0</td>\n",
       "      <td>0</td>\n",
       "      <td>0</td>\n",
       "      <td>0</td>\n",
       "    </tr>\n",
       "    <tr>\n",
       "      <th>23067</th>\n",
       "      <td>NaN</td>\n",
       "      <td>Ke Ai</td>\n",
       "      <td>Movie (1 eps)</td>\n",
       "      <td>Dec 2018 - Dec 2018</td>\n",
       "      <td>3.655025e+04</td>\n",
       "      <td>0.00</td>\n",
       "      <td>https://myanimelist.net/anime/52630/Ke_Ai</td>\n",
       "      <td>NaN</td>\n",
       "      <td>add some</td>\n",
       "      <td>Original</td>\n",
       "      <td>...</td>\n",
       "      <td>0</td>\n",
       "      <td>0</td>\n",
       "      <td>0</td>\n",
       "      <td>1</td>\n",
       "      <td>0</td>\n",
       "      <td>0</td>\n",
       "      <td>0</td>\n",
       "      <td>0</td>\n",
       "      <td>0</td>\n",
       "      <td>0</td>\n",
       "    </tr>\n",
       "    <tr>\n",
       "      <th>23068</th>\n",
       "      <td>NaN</td>\n",
       "      <td>Yari Agari</td>\n",
       "      <td>OVA (? eps)</td>\n",
       "      <td>Jan 2023 -</td>\n",
       "      <td>3.655025e+04</td>\n",
       "      <td>0.00</td>\n",
       "      <td>https://myanimelist.net/anime/53506/Yari_Agari</td>\n",
       "      <td>NaN</td>\n",
       "      <td>add some</td>\n",
       "      <td>Original</td>\n",
       "      <td>...</td>\n",
       "      <td>0</td>\n",
       "      <td>0</td>\n",
       "      <td>0</td>\n",
       "      <td>1</td>\n",
       "      <td>0</td>\n",
       "      <td>0</td>\n",
       "      <td>0</td>\n",
       "      <td>0</td>\n",
       "      <td>0</td>\n",
       "      <td>0</td>\n",
       "    </tr>\n",
       "    <tr>\n",
       "      <th>23069</th>\n",
       "      <td>NaN</td>\n",
       "      <td>Yuwang Jungle</td>\n",
       "      <td>Movie (1 eps)</td>\n",
       "      <td>Sep 2015 - Sep 2015</td>\n",
       "      <td>3.655025e+04</td>\n",
       "      <td>0.00</td>\n",
       "      <td>https://myanimelist.net/anime/53027/Yuwang_Jungle</td>\n",
       "      <td>NaN</td>\n",
       "      <td>Wong Ping Animation Lab</td>\n",
       "      <td>Original</td>\n",
       "      <td>...</td>\n",
       "      <td>0</td>\n",
       "      <td>0</td>\n",
       "      <td>0</td>\n",
       "      <td>1</td>\n",
       "      <td>0</td>\n",
       "      <td>0</td>\n",
       "      <td>0</td>\n",
       "      <td>0</td>\n",
       "      <td>0</td>\n",
       "      <td>0</td>\n",
       "    </tr>\n",
       "  </tbody>\n",
       "</table>\n",
       "<p>23070 rows × 30 columns</p>\n",
       "</div>"
      ],
      "text/plain": [
       "       position                                              title  \\\n",
       "0           1.0                   Fullmetal Alchemist: Brotherhood   \n",
       "1           2.0         Kaguya-sama wa Kokurasetai: Ultra Romantic   \n",
       "2           3.0                          Bleach: Sennen Kessen-hen   \n",
       "3           4.0                                           Gintama°   \n",
       "4           5.0                                        Steins;Gate   \n",
       "...         ...                                                ...   \n",
       "23065       NaN                              Isaku: Tsumi to Batsu   \n",
       "23066       NaN  Isekai Kita node Sukebe Skill de Zenryoku Ouka...   \n",
       "23067       NaN                                              Ke Ai   \n",
       "23068       NaN                                         Yari Agari   \n",
       "23069       NaN                                      Yuwang Jungle   \n",
       "\n",
       "              episodes         release_date       members  score  \\\n",
       "0          TV (64 eps)  Apr 2009 - Jul 2010  3.018336e+06   9.12   \n",
       "1          TV (13 eps)  Apr 2022 - Jun 2022  6.871940e+05   9.10   \n",
       "2           TV (? eps)           Oct 2022 -  2.786500e+05   9.08   \n",
       "3          TV (51 eps)  Apr 2015 - Mar 2016  5.631430e+05   9.08   \n",
       "4          TV (24 eps)  Apr 2011 - Sep 2011  2.324018e+06   9.08   \n",
       "...                ...                  ...           ...    ...   \n",
       "23065  Special (1 eps)  Mar 1999 - Mar 1999  3.655025e+04   0.00   \n",
       "23066      OVA (? eps)           Dec 2022 -  3.655025e+04   0.00   \n",
       "23067    Movie (1 eps)  Dec 2018 - Dec 2018  3.655025e+04   0.00   \n",
       "23068      OVA (? eps)           Jan 2023 -  3.655025e+04   0.00   \n",
       "23069    Movie (1 eps)  Sep 2015 - Sep 2015  3.655025e+04   0.00   \n",
       "\n",
       "                                                 details  \\\n",
       "0      https://myanimelist.net/anime/5114/Fullmetal_A...   \n",
       "1      https://myanimelist.net/anime/43608/Kaguya-sam...   \n",
       "2      https://myanimelist.net/anime/41467/Bleach__Se...   \n",
       "3           https://myanimelist.net/anime/28977/Gintama°   \n",
       "4         https://myanimelist.net/anime/9253/Steins_Gate   \n",
       "...                                                  ...   \n",
       "23065  https://myanimelist.net/anime/43015/Isaku__Tsu...   \n",
       "23066  https://myanimelist.net/anime/53204/Isekai_Kit...   \n",
       "23067          https://myanimelist.net/anime/52630/Ke_Ai   \n",
       "23068     https://myanimelist.net/anime/53506/Yari_Agari   \n",
       "23069  https://myanimelist.net/anime/53027/Yuwang_Jungle   \n",
       "\n",
       "                       broadcast                  studios    source  ...  \\\n",
       "0         Sundays at 17:00 (JST)                    Bones     Manga  ...   \n",
       "1       Saturdays at 00:00 (JST)             A-1 Pictures     Manga  ...   \n",
       "2        Tuesdays at 00:00 (JST)                  Pierrot     Manga  ...   \n",
       "3      Wednesdays at 18:00 (JST)    Bandai Namco Pictures     Manga  ...   \n",
       "4      Wednesdays at 02:05 (JST)                White Fox    Visual  ...   \n",
       "...                          ...                      ...       ...  ...   \n",
       "23065                        NaN            Studio Kyuuma    Visual  ...   \n",
       "23066                        NaN                    Shion     Manga  ...   \n",
       "23067                        NaN                 add some  Original  ...   \n",
       "23068                        NaN                 add some  Original  ...   \n",
       "23069                        NaN  Wong Ping Animation Lab  Original  ...   \n",
       "\n",
       "      source_Mixed source_Music source_Novel  source_Original  source_Other  \\\n",
       "0                0            0            0                0             0   \n",
       "1                0            0            0                0             0   \n",
       "2                0            0            0                0             0   \n",
       "3                0            0            0                0             0   \n",
       "4                0            0            0                0             0   \n",
       "...            ...          ...          ...              ...           ...   \n",
       "23065            0            0            0                0             0   \n",
       "23066            0            0            0                0             0   \n",
       "23067            0            0            0                1             0   \n",
       "23068            0            0            0                1             0   \n",
       "23069            0            0            0                1             0   \n",
       "\n",
       "       source_Picture  source_Radio  source_Unknown  source_Visual  source_Web  \n",
       "0                   0             0               0              0           0  \n",
       "1                   0             0               0              0           0  \n",
       "2                   0             0               0              0           0  \n",
       "3                   0             0               0              0           0  \n",
       "4                   0             0               0              1           0  \n",
       "...               ...           ...             ...            ...         ...  \n",
       "23065               0             0               0              1           0  \n",
       "23066               0             0               0              0           0  \n",
       "23067               0             0               0              0           0  \n",
       "23068               0             0               0              0           0  \n",
       "23069               0             0               0              0           0  \n",
       "\n",
       "[23070 rows x 30 columns]"
      ]
     },
     "execution_count": 104,
     "metadata": {},
     "output_type": "execute_result"
    }
   ],
   "source": [
    "dfAnime_onehot"
   ]
  }
 ],
 "metadata": {
  "kernelspec": {
   "display_name": "Python 3",
   "language": "python",
   "name": "python3"
  },
  "language_info": {
   "codemirror_mode": {
    "name": "ipython",
    "version": 3
   },
   "file_extension": ".py",
   "mimetype": "text/x-python",
   "name": "python",
   "nbconvert_exporter": "python",
   "pygments_lexer": "ipython3",
   "version": "3.10.7"
  },
  "orig_nbformat": 4
 },
 "nbformat": 4,
 "nbformat_minor": 2
}
