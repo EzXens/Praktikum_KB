{
 "cells": [
  {
   "cell_type": "markdown",
   "metadata": {},
   "source": [
    "## Nama : Ashadi Permana\n",
    "## NIM : 2209106033\n",
    "## Kelas Praktikum : A22"
   ]
  },
  {
   "cell_type": "markdown",
   "metadata": {},
   "source": [
    "### Untuk Mengimport Library Pandas dan di deklarasikan ke pd"
   ]
  },
  {
   "cell_type": "code",
   "execution_count": 1,
   "metadata": {},
   "outputs": [],
   "source": [
    "import pandas as pd"
   ]
  },
  {
   "cell_type": "markdown",
   "metadata": {},
   "source": [
    "### Untuk Meng Read File CSV"
   ]
  },
  {
   "cell_type": "code",
   "execution_count": 2,
   "metadata": {},
   "outputs": [],
   "source": [
    "df = pd.read_csv(\"Animes.csv\")"
   ]
  },
  {
   "cell_type": "markdown",
   "metadata": {},
   "source": [
    "### 1. Untuk Menampilkan rata-rata, standar deviasi, nilai minimum, nilai maksimum, Q1, Q2, dan Q3 dari attribute bertipe angka."
   ]
  },
  {
   "cell_type": "code",
   "execution_count": 3,
   "metadata": {},
   "outputs": [
    {
     "data": {
      "text/html": [
       "<div>\n",
       "<style scoped>\n",
       "    .dataframe tbody tr th:only-of-type {\n",
       "        vertical-align: middle;\n",
       "    }\n",
       "\n",
       "    .dataframe tbody tr th {\n",
       "        vertical-align: top;\n",
       "    }\n",
       "\n",
       "    .dataframe thead th {\n",
       "        text-align: right;\n",
       "    }\n",
       "</style>\n",
       "<table border=\"1\" class=\"dataframe\">\n",
       "  <thead>\n",
       "    <tr style=\"text-align: right;\">\n",
       "      <th></th>\n",
       "      <th>position</th>\n",
       "      <th>members</th>\n",
       "      <th>score</th>\n",
       "      <th>popularity</th>\n",
       "    </tr>\n",
       "  </thead>\n",
       "  <tbody>\n",
       "    <tr>\n",
       "      <th>count</th>\n",
       "      <td>21150.000000</td>\n",
       "      <td>2.307000e+04</td>\n",
       "      <td>23070.000000</td>\n",
       "      <td>23070.000000</td>\n",
       "    </tr>\n",
       "    <tr>\n",
       "      <th>mean</th>\n",
       "      <td>10579.527896</td>\n",
       "      <td>3.715924e+04</td>\n",
       "      <td>4.116137</td>\n",
       "      <td>11538.897659</td>\n",
       "    </tr>\n",
       "    <tr>\n",
       "      <th>std</th>\n",
       "      <td>6109.065325</td>\n",
       "      <td>1.533924e+05</td>\n",
       "      <td>3.165004</td>\n",
       "      <td>6662.519507</td>\n",
       "    </tr>\n",
       "    <tr>\n",
       "      <th>min</th>\n",
       "      <td>1.000000</td>\n",
       "      <td>0.000000e+00</td>\n",
       "      <td>0.000000</td>\n",
       "      <td>1.000000</td>\n",
       "    </tr>\n",
       "    <tr>\n",
       "      <th>25%</th>\n",
       "      <td>5289.250000</td>\n",
       "      <td>2.280000e+02</td>\n",
       "      <td>0.000000</td>\n",
       "      <td>5770.250000</td>\n",
       "    </tr>\n",
       "    <tr>\n",
       "      <th>50%</th>\n",
       "      <td>10576.500000</td>\n",
       "      <td>1.205000e+03</td>\n",
       "      <td>5.700000</td>\n",
       "      <td>11537.500000</td>\n",
       "    </tr>\n",
       "    <tr>\n",
       "      <th>75%</th>\n",
       "      <td>15871.750000</td>\n",
       "      <td>9.979750e+03</td>\n",
       "      <td>6.680000</td>\n",
       "      <td>17307.000000</td>\n",
       "    </tr>\n",
       "    <tr>\n",
       "      <th>max</th>\n",
       "      <td>21160.000000</td>\n",
       "      <td>3.562726e+06</td>\n",
       "      <td>9.120000</td>\n",
       "      <td>23080.000000</td>\n",
       "    </tr>\n",
       "  </tbody>\n",
       "</table>\n",
       "</div>"
      ],
      "text/plain": [
       "           position       members         score    popularity\n",
       "count  21150.000000  2.307000e+04  23070.000000  23070.000000\n",
       "mean   10579.527896  3.715924e+04      4.116137  11538.897659\n",
       "std     6109.065325  1.533924e+05      3.165004   6662.519507\n",
       "min        1.000000  0.000000e+00      0.000000      1.000000\n",
       "25%     5289.250000  2.280000e+02      0.000000   5770.250000\n",
       "50%    10576.500000  1.205000e+03      5.700000  11537.500000\n",
       "75%    15871.750000  9.979750e+03      6.680000  17307.000000\n",
       "max    21160.000000  3.562726e+06      9.120000  23080.000000"
      ]
     },
     "execution_count": 3,
     "metadata": {},
     "output_type": "execute_result"
    }
   ],
   "source": [
    "df.describe()"
   ]
  },
  {
   "cell_type": "markdown",
   "metadata": {},
   "source": [
    "### 2. Untuk Menampilkan 10 record pertama dari dataset dengan attribute bertipe angka"
   ]
  },
  {
   "cell_type": "code",
   "execution_count": 4,
   "metadata": {},
   "outputs": [
    {
     "data": {
      "text/html": [
       "<div>\n",
       "<style scoped>\n",
       "    .dataframe tbody tr th:only-of-type {\n",
       "        vertical-align: middle;\n",
       "    }\n",
       "\n",
       "    .dataframe tbody tr th {\n",
       "        vertical-align: top;\n",
       "    }\n",
       "\n",
       "    .dataframe thead th {\n",
       "        text-align: right;\n",
       "    }\n",
       "</style>\n",
       "<table border=\"1\" class=\"dataframe\">\n",
       "  <thead>\n",
       "    <tr style=\"text-align: right;\">\n",
       "      <th></th>\n",
       "      <th>position</th>\n",
       "      <th>members</th>\n",
       "      <th>score</th>\n",
       "      <th>popularity</th>\n",
       "    </tr>\n",
       "  </thead>\n",
       "  <tbody>\n",
       "    <tr>\n",
       "      <th>0</th>\n",
       "      <td>1.0</td>\n",
       "      <td>3018336</td>\n",
       "      <td>9.12</td>\n",
       "      <td>3</td>\n",
       "    </tr>\n",
       "    <tr>\n",
       "      <th>1</th>\n",
       "      <td>2.0</td>\n",
       "      <td>687194</td>\n",
       "      <td>9.10</td>\n",
       "      <td>242</td>\n",
       "    </tr>\n",
       "    <tr>\n",
       "      <th>2</th>\n",
       "      <td>3.0</td>\n",
       "      <td>278650</td>\n",
       "      <td>9.08</td>\n",
       "      <td>748</td>\n",
       "    </tr>\n",
       "    <tr>\n",
       "      <th>3</th>\n",
       "      <td>4.0</td>\n",
       "      <td>563143</td>\n",
       "      <td>9.08</td>\n",
       "      <td>337</td>\n",
       "    </tr>\n",
       "    <tr>\n",
       "      <th>4</th>\n",
       "      <td>5.0</td>\n",
       "      <td>2324018</td>\n",
       "      <td>9.08</td>\n",
       "      <td>13</td>\n",
       "    </tr>\n",
       "    <tr>\n",
       "      <th>5</th>\n",
       "      <td>6.0</td>\n",
       "      <td>1955510</td>\n",
       "      <td>9.06</td>\n",
       "      <td>27</td>\n",
       "    </tr>\n",
       "    <tr>\n",
       "      <th>6</th>\n",
       "      <td>7.0</td>\n",
       "      <td>496374</td>\n",
       "      <td>9.05</td>\n",
       "      <td>383</td>\n",
       "    </tr>\n",
       "    <tr>\n",
       "      <th>7</th>\n",
       "      <td>8.0</td>\n",
       "      <td>116606</td>\n",
       "      <td>9.05</td>\n",
       "      <td>1622</td>\n",
       "    </tr>\n",
       "    <tr>\n",
       "      <th>8</th>\n",
       "      <td>9.0</td>\n",
       "      <td>294655</td>\n",
       "      <td>9.04</td>\n",
       "      <td>706</td>\n",
       "    </tr>\n",
       "    <tr>\n",
       "      <th>9</th>\n",
       "      <td>10.0</td>\n",
       "      <td>2500603</td>\n",
       "      <td>9.04</td>\n",
       "      <td>10</td>\n",
       "    </tr>\n",
       "  </tbody>\n",
       "</table>\n",
       "</div>"
      ],
      "text/plain": [
       "   position  members  score  popularity\n",
       "0       1.0  3018336   9.12           3\n",
       "1       2.0   687194   9.10         242\n",
       "2       3.0   278650   9.08         748\n",
       "3       4.0   563143   9.08         337\n",
       "4       5.0  2324018   9.08          13\n",
       "5       6.0  1955510   9.06          27\n",
       "6       7.0   496374   9.05         383\n",
       "7       8.0   116606   9.05        1622\n",
       "8       9.0   294655   9.04         706\n",
       "9      10.0  2500603   9.04          10"
      ]
     },
     "execution_count": 4,
     "metadata": {},
     "output_type": "execute_result"
    }
   ],
   "source": [
    "df.select_dtypes(include=['number']).head(10)"
   ]
  },
  {
   "cell_type": "markdown",
   "metadata": {},
   "source": [
    "### 3. Deklarasi Dari Dictionary Informasi jumlah record, jumlah attribute, nama attribute, jumlah attribute dengan tipe angka"
   ]
  },
  {
   "cell_type": "code",
   "execution_count": 5,
   "metadata": {},
   "outputs": [],
   "source": [
    "info_dict = {\n",
    "    'Jumlah Record': len(df),\n",
    "    'Jumlah Atribut': len(df.columns),\n",
    "    'Nama Atribut': df.columns.tolist(),\n",
    "    'Jumlah Atribut dengan Tipe Angka': len(df.select_dtypes(include=['number']).columns)\n",
    "}"
   ]
  },
  {
   "cell_type": "markdown",
   "metadata": {},
   "source": [
    "### Menampilkan Hasil Dari Dictionary Informasi jumlah record, jumlah attribute, nama attribute, jumlah attribute dengan tipe angka"
   ]
  },
  {
   "cell_type": "code",
   "execution_count": 6,
   "metadata": {},
   "outputs": [
    {
     "name": "stdout",
     "output_type": "stream",
     "text": [
      "Informasi Dataset:\n",
      "- Jumlah Record: 23070\n",
      "- Jumlah Atribut: 14\n",
      "- Nama Atribut: ['position', 'title', 'episodes', 'release_date', 'members', 'score', 'details', 'broadcast', 'studios', 'source', 'genres', 'themes', 'demographic', 'popularity']\n",
      "- Jumlah Atribut dengan Tipe Angka: 4\n"
     ]
    }
   ],
   "source": [
    "print(\"Informasi Dataset:\")\n",
    "for key, value in info_dict.items():\n",
    "     print(f\"- {key}: {value}\")"
   ]
  },
  {
   "cell_type": "markdown",
   "metadata": {},
   "source": [
    "### 4. Menampilkan nilai dataset pada baris dimulai dengan 3 digit NIM akhir (033) hingga data terakhir dan kolom ke 4 hingga kolom terakhir menggunakan ke 2 metode slice."
   ]
  },
  {
   "cell_type": "markdown",
   "metadata": {},
   "source": [
    "#### Deklarasi Dari Metode Slice 1 (menggunakan loc) 3 digit nim (033) hingga data terakhir dan kolom 4 hingga kolom terakhir"
   ]
  },
  {
   "cell_type": "markdown",
   "metadata": {},
   "source": [
    "### release_date merupakan kolom ke 4 dari data "
   ]
  },
  {
   "cell_type": "code",
   "execution_count": 7,
   "metadata": {},
   "outputs": [],
   "source": [
    "sliced_data_1 = df.loc[33:,\"release_date\":]"
   ]
  },
  {
   "cell_type": "markdown",
   "metadata": {},
   "source": [
    "#### Deklarasi Dari Metode Slice 2 (menggunakan iloc) 3 digit nim hingga (033) data terakhir dan kolom 4 hingga kolom terakhir"
   ]
  },
  {
   "cell_type": "code",
   "execution_count": 8,
   "metadata": {},
   "outputs": [],
   "source": [
    "sliced_data_2 = df.iloc[33:,3:]"
   ]
  },
  {
   "cell_type": "markdown",
   "metadata": {},
   "source": [
    "### Hasil dari metode slice 1"
   ]
  },
  {
   "cell_type": "code",
   "execution_count": 9,
   "metadata": {},
   "outputs": [
    {
     "name": "stdout",
     "output_type": "stream",
     "text": [
      "Hasil Slice Menggunakan loc:\n",
      "              release_date  members  score  \\\n",
      "33     Jul 2001 - Jul 2001  1675950   8.78   \n",
      "34     Jul 2013 - Dec 2013   627148   8.77   \n",
      "35     Apr 2021 - Jul 2021   247367   8.77   \n",
      "36     Apr 2022 - Oct 2022    43501   8.77   \n",
      "37     Apr 1998 - Apr 1999  1683922   8.75   \n",
      "...                    ...      ...    ...   \n",
      "23065  Mar 1999 - Mar 1999      390   0.00   \n",
      "23066           Dec 2022 -      448   0.00   \n",
      "23067  Dec 2018 - Dec 2018       81   0.00   \n",
      "23068           Jan 2023 -       93   0.00   \n",
      "23069  Sep 2015 - Sep 2015       66   0.00   \n",
      "\n",
      "                                                 details  \\\n",
      "33     https://myanimelist.net/anime/199/Sen_to_Chihi...   \n",
      "34     https://myanimelist.net/anime/17074/Monogatari...   \n",
      "35     https://myanimelist.net/anime/44074/Shiguang_D...   \n",
      "36     https://myanimelist.net/anime/50160/Kingdom_4t...   \n",
      "37          https://myanimelist.net/anime/1/Cowboy_Bebop   \n",
      "...                                                  ...   \n",
      "23065  https://myanimelist.net/anime/43015/Isaku__Tsu...   \n",
      "23066  https://myanimelist.net/anime/53204/Isekai_Kit...   \n",
      "23067          https://myanimelist.net/anime/52630/Ke_Ai   \n",
      "23068     https://myanimelist.net/anime/53506/Yari_Agari   \n",
      "23069  https://myanimelist.net/anime/53027/Yuwang_Jungle   \n",
      "\n",
      "                      broadcast                  studios    source  \\\n",
      "33                          NaN            Studio Ghibli  Original   \n",
      "34       Sundays at 00:00 (JST)                    Shaft     Light   \n",
      "35                          NaN               Studio LAN  Original   \n",
      "36       Sundays at 00:00 (JST)                  Pierrot     Manga   \n",
      "37     Saturdays at 01:00 (JST)                  Sunrise  Original   \n",
      "...                         ...                      ...       ...   \n",
      "23065                       NaN            Studio Kyuuma    Visual   \n",
      "23066                       NaN                    Shion     Manga   \n",
      "23067                       NaN                 add some  Original   \n",
      "23068                       NaN                 add some  Original   \n",
      "23069                       NaN  Wong Ping Animation Lab  Original   \n",
      "\n",
      "                                       genres                   themes  \\\n",
      "33     Adventure, Award Winning, Supernatural                Mythology   \n",
      "34     Comedy, Mystery, Romance, Supernatural                  Vampire   \n",
      "35                        Drama, Supernatural  Adult Cast, Time Travel   \n",
      "36                                        NaN     Historical, Military   \n",
      "37                             Action, Sci-Fi        Adult Cast, Space   \n",
      "...                                       ...                      ...   \n",
      "23065                                     NaN                      NaN   \n",
      "23066                                     NaN                      NaN   \n",
      "23067             Avant Garde, Drama, Erotica                      NaN   \n",
      "23068                                     NaN                      NaN   \n",
      "23069                    Avant Garde, Erotica                      NaN   \n",
      "\n",
      "      demographic  popularity  \n",
      "33            NaN          44  \n",
      "34            NaN         279  \n",
      "35            NaN         842  \n",
      "36         Seinen        2981  \n",
      "37            NaN          43  \n",
      "...           ...         ...  \n",
      "23065         NaN       15105  \n",
      "23066         NaN       14519  \n",
      "23067         NaN       19681  \n",
      "23068         NaN       19474  \n",
      "23069         NaN       19921  \n",
      "\n",
      "[23037 rows x 11 columns]\n"
     ]
    }
   ],
   "source": [
    "print(\"Hasil Slice Menggunakan loc:\")\n",
    "print(sliced_data_1)"
   ]
  },
  {
   "cell_type": "markdown",
   "metadata": {},
   "source": [
    "### Hasil dari metode slice 2"
   ]
  },
  {
   "cell_type": "code",
   "execution_count": 10,
   "metadata": {},
   "outputs": [
    {
     "name": "stdout",
     "output_type": "stream",
     "text": [
      "Hasil Slice Menggunakan iloc:\n",
      "              release_date  members  score  \\\n",
      "33     Jul 2001 - Jul 2001  1675950   8.78   \n",
      "34     Jul 2013 - Dec 2013   627148   8.77   \n",
      "35     Apr 2021 - Jul 2021   247367   8.77   \n",
      "36     Apr 2022 - Oct 2022    43501   8.77   \n",
      "37     Apr 1998 - Apr 1999  1683922   8.75   \n",
      "...                    ...      ...    ...   \n",
      "23065  Mar 1999 - Mar 1999      390   0.00   \n",
      "23066           Dec 2022 -      448   0.00   \n",
      "23067  Dec 2018 - Dec 2018       81   0.00   \n",
      "23068           Jan 2023 -       93   0.00   \n",
      "23069  Sep 2015 - Sep 2015       66   0.00   \n",
      "\n",
      "                                                 details  \\\n",
      "33     https://myanimelist.net/anime/199/Sen_to_Chihi...   \n",
      "34     https://myanimelist.net/anime/17074/Monogatari...   \n",
      "35     https://myanimelist.net/anime/44074/Shiguang_D...   \n",
      "36     https://myanimelist.net/anime/50160/Kingdom_4t...   \n",
      "37          https://myanimelist.net/anime/1/Cowboy_Bebop   \n",
      "...                                                  ...   \n",
      "23065  https://myanimelist.net/anime/43015/Isaku__Tsu...   \n",
      "23066  https://myanimelist.net/anime/53204/Isekai_Kit...   \n",
      "23067          https://myanimelist.net/anime/52630/Ke_Ai   \n",
      "23068     https://myanimelist.net/anime/53506/Yari_Agari   \n",
      "23069  https://myanimelist.net/anime/53027/Yuwang_Jungle   \n",
      "\n",
      "                      broadcast                  studios    source  \\\n",
      "33                          NaN            Studio Ghibli  Original   \n",
      "34       Sundays at 00:00 (JST)                    Shaft     Light   \n",
      "35                          NaN               Studio LAN  Original   \n",
      "36       Sundays at 00:00 (JST)                  Pierrot     Manga   \n",
      "37     Saturdays at 01:00 (JST)                  Sunrise  Original   \n",
      "...                         ...                      ...       ...   \n",
      "23065                       NaN            Studio Kyuuma    Visual   \n",
      "23066                       NaN                    Shion     Manga   \n",
      "23067                       NaN                 add some  Original   \n",
      "23068                       NaN                 add some  Original   \n",
      "23069                       NaN  Wong Ping Animation Lab  Original   \n",
      "\n",
      "                                       genres                   themes  \\\n",
      "33     Adventure, Award Winning, Supernatural                Mythology   \n",
      "34     Comedy, Mystery, Romance, Supernatural                  Vampire   \n",
      "35                        Drama, Supernatural  Adult Cast, Time Travel   \n",
      "36                                        NaN     Historical, Military   \n",
      "37                             Action, Sci-Fi        Adult Cast, Space   \n",
      "...                                       ...                      ...   \n",
      "23065                                     NaN                      NaN   \n",
      "23066                                     NaN                      NaN   \n",
      "23067             Avant Garde, Drama, Erotica                      NaN   \n",
      "23068                                     NaN                      NaN   \n",
      "23069                    Avant Garde, Erotica                      NaN   \n",
      "\n",
      "      demographic  popularity  \n",
      "33            NaN          44  \n",
      "34            NaN         279  \n",
      "35            NaN         842  \n",
      "36         Seinen        2981  \n",
      "37            NaN          43  \n",
      "...           ...         ...  \n",
      "23065         NaN       15105  \n",
      "23066         NaN       14519  \n",
      "23067         NaN       19681  \n",
      "23068         NaN       19474  \n",
      "23069         NaN       19921  \n",
      "\n",
      "[23037 rows x 11 columns]\n"
     ]
    }
   ],
   "source": [
    "print(\"Hasil Slice Menggunakan iloc:\")\n",
    "print(sliced_data_2)\n"
   ]
  },
  {
   "cell_type": "markdown",
   "metadata": {},
   "source": [
    "### 5. Untuk menampilkan jumlah label dari semua attribute yang bernilai object"
   ]
  },
  {
   "cell_type": "code",
   "execution_count": 11,
   "metadata": {},
   "outputs": [
    {
     "data": {
      "text/plain": [
       "title                           episodes     release_date         details                                                             broadcast                 studios           source    genres                                  themes                demographic\n",
       "\"Oshi no Ko\"                    TV (? eps)   2023 -               https://myanimelist.net/anime/52034/Oshi_no_Ko                      Unknown                   Doga Kobo         Manga     Drama, Supernatural                     Music, Reincarnation  Seinen         1\n",
       "Ookiku Furikabutte              TV (25 eps)  Apr 2007 - Sep 2007  https://myanimelist.net/anime/2159/Ookiku_Furikabutte               Unknown                   A-1 Pictures      Manga     Comedy, Sports                          Team Sports           Seinen         1\n",
       "Orient: Awajishima Gekitou-hen  TV (12 eps)  Jul 2022 - Sep 2022  https://myanimelist.net/anime/51368/Orient__Awajishima_Gekitou-hen  Tuesdays at 01:30 (JST)   A.C.G.T.          Manga     Action, Adventure, Fantasy              Historical, Samurai   Shounen        1\n",
       "Orient                          TV (12 eps)  Jan 2022 - Mar 2022  https://myanimelist.net/anime/45560/Orient                          Thursdays at 00:00 (JST)  A.C.G.T.          Manga     Action, Adventure, Fantasy              Historical, Samurai   Shounen        1\n",
       "Ore wa Teppei                   TV (28 eps)  Sep 1977 - Mar 1978  https://myanimelist.net/anime/3827/Ore_wa_Teppei                    Unknown                   Nippon Animation  Manga     Action, Sports                          Combat Sports         Shounen        1\n",
       "                                                                                                                                                                                                                                                                        ..\n",
       "Hayate no Gotoku! Cuties        TV (12 eps)  Apr 2013 - Jul 2013  https://myanimelist.net/anime/16982/Hayate_no_Gotoku_Cuties         Tuesdays at 01:35 (JST)   Manglobe          Manga     Comedy, Romance                         Harem, Parody         Shounen        1\n",
       "Hayate no Gotoku!!              TV (25 eps)  Apr 2009 - Sep 2009  https://myanimelist.net/anime/4192/Hayate_no_Gotoku                 Saturdays at 01:23 (JST)  J.C.Staff         Manga     Action, Comedy, Romance                 Harem, Parody         Shounen        1\n",
       "Healin' Good♡Precure            TV (45 eps)  Feb 2020 - Feb 2021  https://myanimelist.net/anime/40610/Healin_Good♡Precure             Sundays at 08:30 (JST)    Toei Animation    Original  Action, Fantasy                         Mahou Shoujo          Shoujo         1\n",
       "Heartcatch Precure!             TV (49 eps)  Feb 2010 - Jan 2011  https://myanimelist.net/anime/7645/Heartcatch_Precure               Sundays at 08:30 (JST)    Toei Animation    Original  Action, Comedy, Fantasy, Slice of Life  Mahou Shoujo, School  Shoujo         1\n",
       "ēlDLIVE                         TV (12 eps)  Jan 2017 - Mar 2017  https://myanimelist.net/anime/32878/ēlDLIVE                         Sundays at 22:00 (JST)    Pierrot           Manga     Action, Sci-Fi                          Detective, Space      Shounen        1\n",
       "Name: count, Length: 1144, dtype: int64"
      ]
     },
     "execution_count": 11,
     "metadata": {},
     "output_type": "execute_result"
    }
   ],
   "source": [
    "df.select_dtypes(include=['object']).value_counts()"
   ]
  }
 ],
 "metadata": {
  "kernelspec": {
   "display_name": "Python 3",
   "language": "python",
   "name": "python3"
  },
  "language_info": {
   "codemirror_mode": {
    "name": "ipython",
    "version": 3
   },
   "file_extension": ".py",
   "mimetype": "text/x-python",
   "name": "python",
   "nbconvert_exporter": "python",
   "pygments_lexer": "ipython3",
   "version": "3.10.7"
  },
  "orig_nbformat": 4
 },
 "nbformat": 4,
 "nbformat_minor": 2
}
